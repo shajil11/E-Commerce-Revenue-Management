{
 "cells": [
  {
   "cell_type": "markdown",
   "id": "6a7d5404",
   "metadata": {},
   "source": [
    "<font color='blue'>\n",
    "    <font size = 5>\n",
    "        You have been given the role of a business analyst for an E-Commerce company and have been asked to prepare a basic report on the data. Follow the steps below for preparation of the report. \n",
    "\n",
    "Before you start analysing the data, it is always a good practice to see the size of the data, its features and feature types. If the data set is big, it is not possible to print out all the records. \n",
    "    </font>\n",
    "####  Note: Use the markdown feature of Python to explain your answer.\n",
    "    "
   ]
  },
  {
   "cell_type": "markdown",
   "id": "daf5d935",
   "metadata": {},
   "source": [
    "## Load the necessary libraries. Import and load the dataset with a name ECom_Data ."
   ]
  },
  {
   "cell_type": "code",
   "execution_count": 1,
   "id": "eec2a3b5",
   "metadata": {},
   "outputs": [],
   "source": [
    "import numpy as np\n",
    "import pandas as pd\n",
    "import matplotlib.pyplot as plt\n",
    "import seaborn as sns\n",
    "pd.options.display.max_rows = 10"
   ]
  },
  {
   "cell_type": "code",
   "execution_count": 2,
   "id": "8e1fcc97",
   "metadata": {},
   "outputs": [
    {
     "data": {
      "text/html": [
       "<div>\n",
       "<style scoped>\n",
       "    .dataframe tbody tr th:only-of-type {\n",
       "        vertical-align: middle;\n",
       "    }\n",
       "\n",
       "    .dataframe tbody tr th {\n",
       "        vertical-align: top;\n",
       "    }\n",
       "\n",
       "    .dataframe thead th {\n",
       "        text-align: right;\n",
       "    }\n",
       "</style>\n",
       "<table border=\"1\" class=\"dataframe\">\n",
       "  <thead>\n",
       "    <tr style=\"text-align: right;\">\n",
       "      <th></th>\n",
       "      <th>Customer_uniq_id</th>\n",
       "      <th>Region</th>\n",
       "      <th>Order_Date</th>\n",
       "      <th>Expected_Delivery_Date</th>\n",
       "      <th>Delivered_Date</th>\n",
       "      <th>product_name</th>\n",
       "      <th>product_main_category</th>\n",
       "      <th>product_subcategory</th>\n",
       "      <th>product_category_filter</th>\n",
       "      <th>product_category_subfilter</th>\n",
       "      <th>product_unique ID</th>\n",
       "      <th>retail_price</th>\n",
       "      <th>discounted_price</th>\n",
       "      <th>product_rating</th>\n",
       "      <th>Brand</th>\n",
       "      <th>product_specifications</th>\n",
       "      <th>description</th>\n",
       "    </tr>\n",
       "  </thead>\n",
       "  <tbody>\n",
       "    <tr>\n",
       "      <th>0</th>\n",
       "      <td>e71017e224688489edfe856f2308806d</td>\n",
       "      <td>East</td>\n",
       "      <td>24-10-2021</td>\n",
       "      <td>25-10-2021</td>\n",
       "      <td>25-10-2021</td>\n",
       "      <td>Indcrown Net Embroidered Semi-stitched Lehenga...</td>\n",
       "      <td>Clothing</td>\n",
       "      <td>Women's Clothing</td>\n",
       "      <td>Ethnic Wear</td>\n",
       "      <td>Fabric</td>\n",
       "      <td>FABEJX2NHNKCYHKA</td>\n",
       "      <td>999</td>\n",
       "      <td>699</td>\n",
       "      <td>4.0</td>\n",
       "      <td>INDCROWN</td>\n",
       "      <td>{\"product_specification\"=&gt;[{\"key\"=&gt;\"Fabric\", \"...</td>\n",
       "      <td>Key Features of Indcrown Net Embroidered Semi-...</td>\n",
       "    </tr>\n",
       "    <tr>\n",
       "      <th>1</th>\n",
       "      <td>6286847ee2da18f587503db49511c539</td>\n",
       "      <td>East</td>\n",
       "      <td>24-10-2021</td>\n",
       "      <td>25-10-2021</td>\n",
       "      <td>25-10-2021</td>\n",
       "      <td>Shopmania Music Band A5 Notebook Spiral Bound</td>\n",
       "      <td>Pens &amp; Stationery</td>\n",
       "      <td>Diaries &amp; Notebooks</td>\n",
       "      <td>Notebooks</td>\n",
       "      <td>Designer</td>\n",
       "      <td>DIAEJ6Z8BEDTGGYY</td>\n",
       "      <td>499</td>\n",
       "      <td>275</td>\n",
       "      <td>1.0</td>\n",
       "      <td>SHOPMANIA</td>\n",
       "      <td>{\"product_specification\"=&gt;[{\"key\"=&gt;\"Ruling\", \"...</td>\n",
       "      <td>Specifications of Shopmania Music Band A5 Note...</td>\n",
       "    </tr>\n",
       "  </tbody>\n",
       "</table>\n",
       "</div>"
      ],
      "text/plain": [
       "                   Customer_uniq_id Region  Order_Date Expected_Delivery_Date  \\\n",
       "0  e71017e224688489edfe856f2308806d  East   24-10-2021             25-10-2021   \n",
       "1  6286847ee2da18f587503db49511c539  East   24-10-2021             25-10-2021   \n",
       "\n",
       "  Delivered_Date                                       product_name  \\\n",
       "0     25-10-2021  Indcrown Net Embroidered Semi-stitched Lehenga...   \n",
       "1     25-10-2021      Shopmania Music Band A5 Notebook Spiral Bound   \n",
       "\n",
       "  product_main_category    product_subcategory product_category_filter  \\\n",
       "0             Clothing       Women's Clothing             Ethnic Wear    \n",
       "1    Pens & Stationery    Diaries & Notebooks               Notebooks    \n",
       "\n",
       "  product_category_subfilter product_unique ID  retail_price  \\\n",
       "0                    Fabric   FABEJX2NHNKCYHKA           999   \n",
       "1                  Designer   DIAEJ6Z8BEDTGGYY           499   \n",
       "\n",
       "   discounted_price  product_rating      Brand  \\\n",
       "0               699             4.0   INDCROWN   \n",
       "1               275             1.0  SHOPMANIA   \n",
       "\n",
       "                              product_specifications  \\\n",
       "0  {\"product_specification\"=>[{\"key\"=>\"Fabric\", \"...   \n",
       "1  {\"product_specification\"=>[{\"key\"=>\"Ruling\", \"...   \n",
       "\n",
       "                                         description  \n",
       "0  Key Features of Indcrown Net Embroidered Semi-...  \n",
       "1  Specifications of Shopmania Music Band A5 Note...  "
      ]
     },
     "execution_count": 2,
     "metadata": {},
     "output_type": "execute_result"
    }
   ],
   "source": [
    "# Get the Data\n",
    "\n",
    "ECom_Data=pd.read_csv(\"E-Commerce.csv\")\n",
    "ECom_Data.head(2)"
   ]
  },
  {
   "cell_type": "markdown",
   "id": "2cf5f20f",
   "metadata": {},
   "source": [
    "<font color='blue'>\n",
    "    <font size = 5>\n",
    "        We have read the data and stored the data in \"ECom_Data\" variable </font>"
   ]
  },
  {
   "cell_type": "markdown",
   "id": "a0a4f84a",
   "metadata": {},
   "source": [
    "## Q 1.\tTo get familiar with the data\n",
    "## a)\tPrint out the first 10 and the last 10 records of the data. (2 marks)\n",
    "## b)\tHow many rows and columns are present in the dataset? Use any two different methods to extract this information. (2 + 2 + 2 marks)\n",
    "## c)\tHow many object data types are there? (1 mark)\n",
    "## d)\tIs there any Boolean data type? (1 mark) \n",
    "#### Note: Use the markdown feature of Python to explain your answer.\n"
   ]
  },
  {
   "cell_type": "code",
   "execution_count": null,
   "id": "55ad77c3",
   "metadata": {},
   "outputs": [],
   "source": []
  },
  {
   "cell_type": "markdown",
   "id": "0ba43d74",
   "metadata": {},
   "source": [
    "#### Ans 1 a)"
   ]
  },
  {
   "cell_type": "code",
   "execution_count": 3,
   "id": "6684f5a1",
   "metadata": {},
   "outputs": [
    {
     "data": {
      "text/html": [
       "<div>\n",
       "<style scoped>\n",
       "    .dataframe tbody tr th:only-of-type {\n",
       "        vertical-align: middle;\n",
       "    }\n",
       "\n",
       "    .dataframe tbody tr th {\n",
       "        vertical-align: top;\n",
       "    }\n",
       "\n",
       "    .dataframe thead th {\n",
       "        text-align: right;\n",
       "    }\n",
       "</style>\n",
       "<table border=\"1\" class=\"dataframe\">\n",
       "  <thead>\n",
       "    <tr style=\"text-align: right;\">\n",
       "      <th></th>\n",
       "      <th>Customer_uniq_id</th>\n",
       "      <th>Region</th>\n",
       "      <th>Order_Date</th>\n",
       "      <th>Expected_Delivery_Date</th>\n",
       "      <th>Delivered_Date</th>\n",
       "      <th>product_name</th>\n",
       "      <th>product_main_category</th>\n",
       "      <th>product_subcategory</th>\n",
       "      <th>product_category_filter</th>\n",
       "      <th>product_category_subfilter</th>\n",
       "      <th>product_unique ID</th>\n",
       "      <th>retail_price</th>\n",
       "      <th>discounted_price</th>\n",
       "      <th>product_rating</th>\n",
       "      <th>Brand</th>\n",
       "      <th>product_specifications</th>\n",
       "      <th>description</th>\n",
       "    </tr>\n",
       "  </thead>\n",
       "  <tbody>\n",
       "    <tr>\n",
       "      <th>0</th>\n",
       "      <td>e71017e224688489edfe856f2308806d</td>\n",
       "      <td>East</td>\n",
       "      <td>24-10-2021</td>\n",
       "      <td>25-10-2021</td>\n",
       "      <td>25-10-2021</td>\n",
       "      <td>Indcrown Net Embroidered Semi-stitched Lehenga...</td>\n",
       "      <td>Clothing</td>\n",
       "      <td>Women's Clothing</td>\n",
       "      <td>Ethnic Wear</td>\n",
       "      <td>Fabric</td>\n",
       "      <td>FABEJX2NHNKCYHKA</td>\n",
       "      <td>999</td>\n",
       "      <td>699</td>\n",
       "      <td>4.0</td>\n",
       "      <td>INDCROWN</td>\n",
       "      <td>{\"product_specification\"=&gt;[{\"key\"=&gt;\"Fabric\", \"...</td>\n",
       "      <td>Key Features of Indcrown Net Embroidered Semi-...</td>\n",
       "    </tr>\n",
       "    <tr>\n",
       "      <th>1</th>\n",
       "      <td>6286847ee2da18f587503db49511c539</td>\n",
       "      <td>East</td>\n",
       "      <td>24-10-2021</td>\n",
       "      <td>25-10-2021</td>\n",
       "      <td>25-10-2021</td>\n",
       "      <td>Shopmania Music Band A5 Notebook Spiral Bound</td>\n",
       "      <td>Pens &amp; Stationery</td>\n",
       "      <td>Diaries &amp; Notebooks</td>\n",
       "      <td>Notebooks</td>\n",
       "      <td>Designer</td>\n",
       "      <td>DIAEJ6Z8BEDTGGYY</td>\n",
       "      <td>499</td>\n",
       "      <td>275</td>\n",
       "      <td>1.0</td>\n",
       "      <td>SHOPMANIA</td>\n",
       "      <td>{\"product_specification\"=&gt;[{\"key\"=&gt;\"Ruling\", \"...</td>\n",
       "      <td>Specifications of Shopmania Music Band A5 Note...</td>\n",
       "    </tr>\n",
       "    <tr>\n",
       "      <th>2</th>\n",
       "      <td>0686fec9b70e5039583a38119ca0c835</td>\n",
       "      <td>West</td>\n",
       "      <td>24-10-2021</td>\n",
       "      <td>25-10-2021</td>\n",
       "      <td>25-10-2021</td>\n",
       "      <td>Shopmania Music Band A5 Notebook Spiral Bound</td>\n",
       "      <td>Pens &amp; Stationery</td>\n",
       "      <td>Diaries &amp; Notebooks</td>\n",
       "      <td>Notebooks</td>\n",
       "      <td>Designer</td>\n",
       "      <td>DIAEJ6Z8KQFWDEGH</td>\n",
       "      <td>499</td>\n",
       "      <td>275</td>\n",
       "      <td>2.0</td>\n",
       "      <td>SHOPMANIA</td>\n",
       "      <td>{\"product_specification\"=&gt;[{\"key\"=&gt;\"Ruling\", \"...</td>\n",
       "      <td>Specifications of Shopmania Music Band A5 Note...</td>\n",
       "    </tr>\n",
       "    <tr>\n",
       "      <th>3</th>\n",
       "      <td>ea2406dc597bee2abb6b867fa668501f</td>\n",
       "      <td>West</td>\n",
       "      <td>24-10-2021</td>\n",
       "      <td>25-10-2021</td>\n",
       "      <td>25-10-2021</td>\n",
       "      <td>Tiara Diaries 2016-2017 Designer LA Kaarta \"TA...</td>\n",
       "      <td>Pens &amp; Stationery</td>\n",
       "      <td>Diaries &amp; Notebooks</td>\n",
       "      <td>Notebooks</td>\n",
       "      <td>Designer</td>\n",
       "      <td>DIAEJ8FGHZ3K86JU</td>\n",
       "      <td>1000</td>\n",
       "      <td>837</td>\n",
       "      <td>3.0</td>\n",
       "      <td>TIARA DIARIES</td>\n",
       "      <td>{\"product_specification\"=&gt;[{\"key\"=&gt;\"Ruling\", \"...</td>\n",
       "      <td>Specifications of Tiara Diaries 2016-2017 Desi...</td>\n",
       "    </tr>\n",
       "    <tr>\n",
       "      <th>4</th>\n",
       "      <td>5935ed077915347dc695744df68c565c</td>\n",
       "      <td>East</td>\n",
       "      <td>03-09-2021</td>\n",
       "      <td>04-09-2021</td>\n",
       "      <td>04-09-2021</td>\n",
       "      <td>KAJCI Embroidered Women's Waistcoat</td>\n",
       "      <td>Clothing</td>\n",
       "      <td>Women's Clothing</td>\n",
       "      <td>Formal Wear</td>\n",
       "      <td>Waistcoats</td>\n",
       "      <td>WSCEG2FYDYFDSVZ6</td>\n",
       "      <td>1200</td>\n",
       "      <td>699</td>\n",
       "      <td>5.0</td>\n",
       "      <td>KAJCI</td>\n",
       "      <td>{\"product_specification\"=&gt;[{\"key\"=&gt;\"Pattern\", ...</td>\n",
       "      <td>Specifications of KAJCI Embroidered Women's Wa...</td>\n",
       "    </tr>\n",
       "    <tr>\n",
       "      <th>5</th>\n",
       "      <td>89fcdddaad50084e395d0928a7426afe</td>\n",
       "      <td>East</td>\n",
       "      <td>03-09-2021</td>\n",
       "      <td>04-09-2021</td>\n",
       "      <td>04-09-2021</td>\n",
       "      <td>Packman 8 x 10 inches Security Bags Without PO...</td>\n",
       "      <td>Pens &amp; Stationery</td>\n",
       "      <td>Office Supplies</td>\n",
       "      <td>Packaging Security Bags</td>\n",
       "      <td>Packman Packaging Security Bags</td>\n",
       "      <td>PKBEGBTRKKHU26YQ</td>\n",
       "      <td>350</td>\n",
       "      <td>298</td>\n",
       "      <td>4.0</td>\n",
       "      <td>PACKMAN</td>\n",
       "      <td>{\"product_specification\"=&gt;[{\"key\"=&gt;\"Bubble Wra...</td>\n",
       "      <td>Key Features of Packman 8 x 10 inches Security...</td>\n",
       "    </tr>\n",
       "    <tr>\n",
       "      <th>6</th>\n",
       "      <td>b9b183aa18d3a721d2ac23e7184525b0</td>\n",
       "      <td>East</td>\n",
       "      <td>03-09-2021</td>\n",
       "      <td>04-09-2021</td>\n",
       "      <td>04-09-2021</td>\n",
       "      <td>Pick Pocket Embroidered Women's Waistcoat</td>\n",
       "      <td>Clothing</td>\n",
       "      <td>Women's Clothing</td>\n",
       "      <td>Formal Wear</td>\n",
       "      <td>Waistcoats</td>\n",
       "      <td>WSCEFUV4TVWT73ZB</td>\n",
       "      <td>899</td>\n",
       "      <td>899</td>\n",
       "      <td>1.0</td>\n",
       "      <td>PICK POCKET</td>\n",
       "      <td>{\"product_specification\"=&gt;[{\"key\"=&gt;\"Pattern\", ...</td>\n",
       "      <td>Specifications of Pick Pocket Embroidered Wome...</td>\n",
       "    </tr>\n",
       "    <tr>\n",
       "      <th>7</th>\n",
       "      <td>dee64864c0419bec80fbbb94d19bc40d</td>\n",
       "      <td>East</td>\n",
       "      <td>03-09-2021</td>\n",
       "      <td>04-09-2021</td>\n",
       "      <td>04-09-2021</td>\n",
       "      <td>Angelfish Silk Potali Potli</td>\n",
       "      <td>Bags, Wallets &amp; Belts</td>\n",
       "      <td>Bags</td>\n",
       "      <td>Pouches and Potlis</td>\n",
       "      <td>Angelfish Pouches and Potlis</td>\n",
       "      <td>PPSEGFYAGD8FYUXV</td>\n",
       "      <td>999</td>\n",
       "      <td>399</td>\n",
       "      <td>4.0</td>\n",
       "      <td>ANGELFISH</td>\n",
       "      <td>{\"product_specification\"=&gt;[{\"key\"=&gt;\"Closure\", ...</td>\n",
       "      <td>Angelfish Silk Potali Potli (Multicolor) Price...</td>\n",
       "    </tr>\n",
       "    <tr>\n",
       "      <th>8</th>\n",
       "      <td>595f55f2c1293f07ea9ec9fa2bb39f46</td>\n",
       "      <td>East</td>\n",
       "      <td>03-09-2021</td>\n",
       "      <td>04-09-2021</td>\n",
       "      <td>04-09-2021</td>\n",
       "      <td>Oye Boy's Dungaree</td>\n",
       "      <td>Clothing</td>\n",
       "      <td>Kids' Clothing</td>\n",
       "      <td>Boys Wear</td>\n",
       "      <td>Dungarees &amp; Jumpsuits</td>\n",
       "      <td>DRPEF2XSFBAP4SUZ</td>\n",
       "      <td>899</td>\n",
       "      <td>764</td>\n",
       "      <td>1.0</td>\n",
       "      <td>OYE</td>\n",
       "      <td>{\"product_specification\"=&gt;[{\"key\"=&gt;\"Number of ...</td>\n",
       "      <td>Specifications of Oye Boy's Dungaree Top Detai...</td>\n",
       "    </tr>\n",
       "    <tr>\n",
       "      <th>9</th>\n",
       "      <td>547b6585272473ae006bcfbdb47b6ae0</td>\n",
       "      <td>West</td>\n",
       "      <td>26-08-2021</td>\n",
       "      <td>27-08-2021</td>\n",
       "      <td>27-08-2021</td>\n",
       "      <td>Nuride Canvas Shoes</td>\n",
       "      <td>Footwear</td>\n",
       "      <td>Women's Footwear</td>\n",
       "      <td>Casual Shoes</td>\n",
       "      <td>Canvas</td>\n",
       "      <td>SHOEGVQCT2ZSGUHY</td>\n",
       "      <td>1999</td>\n",
       "      <td>1349</td>\n",
       "      <td>2.0</td>\n",
       "      <td>NURIDE</td>\n",
       "      <td>{\"product_specification\"=&gt;[{\"key\"=&gt;\"Occasion\",...</td>\n",
       "      <td>Key Features of Nuride Canvas Shoes Material: ...</td>\n",
       "    </tr>\n",
       "  </tbody>\n",
       "</table>\n",
       "</div>"
      ],
      "text/plain": [
       "                   Customer_uniq_id Region  Order_Date Expected_Delivery_Date  \\\n",
       "0  e71017e224688489edfe856f2308806d  East   24-10-2021             25-10-2021   \n",
       "1  6286847ee2da18f587503db49511c539  East   24-10-2021             25-10-2021   \n",
       "2  0686fec9b70e5039583a38119ca0c835   West  24-10-2021             25-10-2021   \n",
       "3  ea2406dc597bee2abb6b867fa668501f   West  24-10-2021             25-10-2021   \n",
       "4  5935ed077915347dc695744df68c565c  East   03-09-2021             04-09-2021   \n",
       "5  89fcdddaad50084e395d0928a7426afe  East   03-09-2021             04-09-2021   \n",
       "6  b9b183aa18d3a721d2ac23e7184525b0  East   03-09-2021             04-09-2021   \n",
       "7  dee64864c0419bec80fbbb94d19bc40d  East   03-09-2021             04-09-2021   \n",
       "8  595f55f2c1293f07ea9ec9fa2bb39f46  East   03-09-2021             04-09-2021   \n",
       "9  547b6585272473ae006bcfbdb47b6ae0   West  26-08-2021             27-08-2021   \n",
       "\n",
       "  Delivered_Date                                       product_name  \\\n",
       "0     25-10-2021  Indcrown Net Embroidered Semi-stitched Lehenga...   \n",
       "1     25-10-2021      Shopmania Music Band A5 Notebook Spiral Bound   \n",
       "2     25-10-2021      Shopmania Music Band A5 Notebook Spiral Bound   \n",
       "3     25-10-2021  Tiara Diaries 2016-2017 Designer LA Kaarta \"TA...   \n",
       "4     04-09-2021                KAJCI Embroidered Women's Waistcoat   \n",
       "5     04-09-2021  Packman 8 x 10 inches Security Bags Without PO...   \n",
       "6     04-09-2021          Pick Pocket Embroidered Women's Waistcoat   \n",
       "7     04-09-2021                        Angelfish Silk Potali Potli   \n",
       "8     04-09-2021                                 Oye Boy's Dungaree   \n",
       "9     27-08-2021                                Nuride Canvas Shoes   \n",
       "\n",
       "    product_main_category    product_subcategory    product_category_filter  \\\n",
       "0               Clothing       Women's Clothing                Ethnic Wear    \n",
       "1      Pens & Stationery    Diaries & Notebooks                  Notebooks    \n",
       "2      Pens & Stationery    Diaries & Notebooks                  Notebooks    \n",
       "3      Pens & Stationery    Diaries & Notebooks                  Notebooks    \n",
       "4               Clothing       Women's Clothing                Formal Wear    \n",
       "5      Pens & Stationery        Office Supplies    Packaging Security Bags    \n",
       "6               Clothing       Women's Clothing                Formal Wear    \n",
       "7  Bags, Wallets & Belts                   Bags         Pouches and Potlis    \n",
       "8               Clothing         Kids' Clothing                  Boys Wear    \n",
       "9               Footwear       Women's Footwear               Casual Shoes    \n",
       "\n",
       "          product_category_subfilter product_unique ID  retail_price  \\\n",
       "0                            Fabric   FABEJX2NHNKCYHKA           999   \n",
       "1                          Designer   DIAEJ6Z8BEDTGGYY           499   \n",
       "2                          Designer   DIAEJ6Z8KQFWDEGH           499   \n",
       "3                          Designer   DIAEJ8FGHZ3K86JU          1000   \n",
       "4                        Waistcoats   WSCEG2FYDYFDSVZ6          1200   \n",
       "5   Packman Packaging Security Bags   PKBEGBTRKKHU26YQ           350   \n",
       "6                        Waistcoats   WSCEFUV4TVWT73ZB           899   \n",
       "7      Angelfish Pouches and Potlis   PPSEGFYAGD8FYUXV           999   \n",
       "8             Dungarees & Jumpsuits   DRPEF2XSFBAP4SUZ           899   \n",
       "9                            Canvas   SHOEGVQCT2ZSGUHY          1999   \n",
       "\n",
       "   discounted_price  product_rating          Brand  \\\n",
       "0               699             4.0       INDCROWN   \n",
       "1               275             1.0      SHOPMANIA   \n",
       "2               275             2.0      SHOPMANIA   \n",
       "3               837             3.0  TIARA DIARIES   \n",
       "4               699             5.0          KAJCI   \n",
       "5               298             4.0        PACKMAN   \n",
       "6               899             1.0    PICK POCKET   \n",
       "7               399             4.0      ANGELFISH   \n",
       "8               764             1.0            OYE   \n",
       "9              1349             2.0         NURIDE   \n",
       "\n",
       "                              product_specifications  \\\n",
       "0  {\"product_specification\"=>[{\"key\"=>\"Fabric\", \"...   \n",
       "1  {\"product_specification\"=>[{\"key\"=>\"Ruling\", \"...   \n",
       "2  {\"product_specification\"=>[{\"key\"=>\"Ruling\", \"...   \n",
       "3  {\"product_specification\"=>[{\"key\"=>\"Ruling\", \"...   \n",
       "4  {\"product_specification\"=>[{\"key\"=>\"Pattern\", ...   \n",
       "5  {\"product_specification\"=>[{\"key\"=>\"Bubble Wra...   \n",
       "6  {\"product_specification\"=>[{\"key\"=>\"Pattern\", ...   \n",
       "7  {\"product_specification\"=>[{\"key\"=>\"Closure\", ...   \n",
       "8  {\"product_specification\"=>[{\"key\"=>\"Number of ...   \n",
       "9  {\"product_specification\"=>[{\"key\"=>\"Occasion\",...   \n",
       "\n",
       "                                         description  \n",
       "0  Key Features of Indcrown Net Embroidered Semi-...  \n",
       "1  Specifications of Shopmania Music Band A5 Note...  \n",
       "2  Specifications of Shopmania Music Band A5 Note...  \n",
       "3  Specifications of Tiara Diaries 2016-2017 Desi...  \n",
       "4  Specifications of KAJCI Embroidered Women's Wa...  \n",
       "5  Key Features of Packman 8 x 10 inches Security...  \n",
       "6  Specifications of Pick Pocket Embroidered Wome...  \n",
       "7  Angelfish Silk Potali Potli (Multicolor) Price...  \n",
       "8  Specifications of Oye Boy's Dungaree Top Detai...  \n",
       "9  Key Features of Nuride Canvas Shoes Material: ...  "
      ]
     },
     "execution_count": 3,
     "metadata": {},
     "output_type": "execute_result"
    }
   ],
   "source": [
    "ECom_Data.head(10)"
   ]
  },
  {
   "cell_type": "code",
   "execution_count": 5,
   "id": "be41dfcc",
   "metadata": {},
   "outputs": [
    {
     "data": {
      "text/html": [
       "<div>\n",
       "<style scoped>\n",
       "    .dataframe tbody tr th:only-of-type {\n",
       "        vertical-align: middle;\n",
       "    }\n",
       "\n",
       "    .dataframe tbody tr th {\n",
       "        vertical-align: top;\n",
       "    }\n",
       "\n",
       "    .dataframe thead th {\n",
       "        text-align: right;\n",
       "    }\n",
       "</style>\n",
       "<table border=\"1\" class=\"dataframe\">\n",
       "  <thead>\n",
       "    <tr style=\"text-align: right;\">\n",
       "      <th></th>\n",
       "      <th>Customer_uniq_id</th>\n",
       "      <th>Region</th>\n",
       "      <th>Order_Date</th>\n",
       "      <th>Expected_Delivery_Date</th>\n",
       "      <th>Delivered_Date</th>\n",
       "      <th>product_name</th>\n",
       "      <th>product_main_category</th>\n",
       "      <th>product_subcategory</th>\n",
       "      <th>product_category_filter</th>\n",
       "      <th>product_category_subfilter</th>\n",
       "      <th>product_unique ID</th>\n",
       "      <th>retail_price</th>\n",
       "      <th>discounted_price</th>\n",
       "      <th>product_rating</th>\n",
       "      <th>Brand</th>\n",
       "      <th>product_specifications</th>\n",
       "      <th>description</th>\n",
       "    </tr>\n",
       "  </thead>\n",
       "  <tbody>\n",
       "    <tr>\n",
       "      <th>8896</th>\n",
       "      <td>4db03bc4ccbe216cf151b2f2b904ba3f</td>\n",
       "      <td>East</td>\n",
       "      <td>01-12-2020</td>\n",
       "      <td>04-12-2020</td>\n",
       "      <td>04-12-2020</td>\n",
       "      <td>Luca Fashion Girls Heels</td>\n",
       "      <td>Footwear</td>\n",
       "      <td>Kids' &amp; Infant Footwear</td>\n",
       "      <td>For Girls</td>\n",
       "      <td>Sandals</td>\n",
       "      <td>SNDEHG3DNVBFGAT5</td>\n",
       "      <td>999</td>\n",
       "      <td>499</td>\n",
       "      <td>4.0</td>\n",
       "      <td>LUCA FASHION</td>\n",
       "      <td>{\"product_specification\"=&gt;[{\"key\"=&gt;\"Occasion\",...</td>\n",
       "      <td>Key Features of Luca Fashion Girls Heels Occas...</td>\n",
       "    </tr>\n",
       "    <tr>\n",
       "      <th>8897</th>\n",
       "      <td>4d4d6aeb13fa253499d0dd45a5abd87e</td>\n",
       "      <td>West</td>\n",
       "      <td>01-12-2020</td>\n",
       "      <td>04-12-2020</td>\n",
       "      <td>04-12-2020</td>\n",
       "      <td>Shoetopia Girls Sandals</td>\n",
       "      <td>Footwear</td>\n",
       "      <td>Kids' &amp; Infant Footwear</td>\n",
       "      <td>For Girls</td>\n",
       "      <td>Sandals</td>\n",
       "      <td>SNDEG7DRWSX8HFXZ</td>\n",
       "      <td>499</td>\n",
       "      <td>399</td>\n",
       "      <td>4.0</td>\n",
       "      <td>SHOETOPIA</td>\n",
       "      <td>{\"product_specification\"=&gt;[{\"key\"=&gt;\"Ideal For\"...</td>\n",
       "      <td>Key Features of Shoetopia Girls Sandals Flats ...</td>\n",
       "    </tr>\n",
       "    <tr>\n",
       "      <th>8898</th>\n",
       "      <td>ea19e7ef703293d3f6c799ca9db4642d</td>\n",
       "      <td>West</td>\n",
       "      <td>01-12-2020</td>\n",
       "      <td>04-12-2020</td>\n",
       "      <td>04-12-2020</td>\n",
       "      <td>SMART TRADERS Girls Sandals</td>\n",
       "      <td>Footwear</td>\n",
       "      <td>Kids' &amp; Infant Footwear</td>\n",
       "      <td>For Girls</td>\n",
       "      <td>Sandals</td>\n",
       "      <td>SNDEG7MZHHKZ58D2</td>\n",
       "      <td>999</td>\n",
       "      <td>499</td>\n",
       "      <td>5.0</td>\n",
       "      <td>SMART TRADERS</td>\n",
       "      <td>{\"product_specification\"=&gt;[{\"key\"=&gt;\"Ideal For\"...</td>\n",
       "      <td>Key Features of SMART TRADERS Girls Sandals Oc...</td>\n",
       "    </tr>\n",
       "    <tr>\n",
       "      <th>8899</th>\n",
       "      <td>19a53a958992fb575acffb5d41e7ef9e</td>\n",
       "      <td>East</td>\n",
       "      <td>01-12-2020</td>\n",
       "      <td>04-12-2020</td>\n",
       "      <td>04-12-2020</td>\n",
       "      <td>Beanz Girls Flats</td>\n",
       "      <td>Footwear</td>\n",
       "      <td>Kids' &amp; Infant Footwear</td>\n",
       "      <td>For Girls</td>\n",
       "      <td>Sandals</td>\n",
       "      <td>SNDEG7DYVFWHZBC4</td>\n",
       "      <td>1299</td>\n",
       "      <td>1299</td>\n",
       "      <td>3.0</td>\n",
       "      <td>BEANZ</td>\n",
       "      <td>{\"product_specification\"=&gt;[{\"key\"=&gt;\"Occasion\",...</td>\n",
       "      <td>Key Features of Beanz Girls Flats Occasion: Ca...</td>\n",
       "    </tr>\n",
       "    <tr>\n",
       "      <th>8900</th>\n",
       "      <td>09abab80c8dfdc6f268e0a6f05a0be11</td>\n",
       "      <td>North</td>\n",
       "      <td>01-12-2020</td>\n",
       "      <td>04-12-2020</td>\n",
       "      <td>04-12-2020</td>\n",
       "      <td>Nova KT 728S Electric Kettle</td>\n",
       "      <td>Home &amp; Kitchen</td>\n",
       "      <td>Kitchen Appliances</td>\n",
       "      <td>Electric Jug(heater)/Travel Kettles</td>\n",
       "      <td>Nova Electric Jug(heater)/Travel Kettles</td>\n",
       "      <td>EKTDG5C5QSADZZ8J</td>\n",
       "      <td>3195</td>\n",
       "      <td>699</td>\n",
       "      <td>3.6</td>\n",
       "      <td>NOVA</td>\n",
       "      <td>{\"product_specification\"=&gt;[{\"key\"=&gt;\"Brand\", \"v...</td>\n",
       "      <td>Specifications of Nova KT 728S Electric Kettle...</td>\n",
       "    </tr>\n",
       "    <tr>\n",
       "      <th>8901</th>\n",
       "      <td>90d30478255e23621e8929ed15c2f6e4</td>\n",
       "      <td>South</td>\n",
       "      <td>01-12-2020</td>\n",
       "      <td>04-12-2020</td>\n",
       "      <td>04-12-2020</td>\n",
       "      <td>Sinina Chanderi Embroidered Salwar Suit Dupatt...</td>\n",
       "      <td>Clothing</td>\n",
       "      <td>Women's Clothing</td>\n",
       "      <td>Ethnic Wear</td>\n",
       "      <td>Fabric</td>\n",
       "      <td>FABEGGHHDFMY8BZU</td>\n",
       "      <td>2980</td>\n",
       "      <td>1490</td>\n",
       "      <td>3.0</td>\n",
       "      <td>SININA</td>\n",
       "      <td>{\"product_specification\"=&gt;[{\"key\"=&gt;\"Fabric\", \"...</td>\n",
       "      <td>Key Features of Sinina Chanderi Embroidered Sa...</td>\n",
       "    </tr>\n",
       "    <tr>\n",
       "      <th>8902</th>\n",
       "      <td>20a73e3f41490a73ceeba5f17658db8f</td>\n",
       "      <td>West</td>\n",
       "      <td>01-12-2020</td>\n",
       "      <td>04-12-2020</td>\n",
       "      <td>04-12-2020</td>\n",
       "      <td>Aarushi Fashion Chanderi Embroidered Salwar Su...</td>\n",
       "      <td>Clothing</td>\n",
       "      <td>Women's Clothing</td>\n",
       "      <td>Ethnic Wear</td>\n",
       "      <td>Fabric</td>\n",
       "      <td>FABEG8GFDUWRSNU3</td>\n",
       "      <td>2600</td>\n",
       "      <td>1300</td>\n",
       "      <td>1.0</td>\n",
       "      <td>AARUSHI FASHION</td>\n",
       "      <td>{\"product_specification\"=&gt;[{\"key\"=&gt;\"Fabric\", \"...</td>\n",
       "      <td>Key Features of Aarushi Fashion Chanderi Embro...</td>\n",
       "    </tr>\n",
       "    <tr>\n",
       "      <th>8903</th>\n",
       "      <td>5c1554cd45f9d538c2c6947dbdd59c75</td>\n",
       "      <td>East</td>\n",
       "      <td>01-12-2020</td>\n",
       "      <td>04-12-2020</td>\n",
       "      <td>04-12-2020</td>\n",
       "      <td>Ambika Lahenga Embroidered Lehenga, Choli and ...</td>\n",
       "      <td>Clothing</td>\n",
       "      <td>Women's Clothing</td>\n",
       "      <td>Ethnic Wear</td>\n",
       "      <td>Lehenga Cholis</td>\n",
       "      <td>LEHEGGEHYN4G2RPW</td>\n",
       "      <td>39992</td>\n",
       "      <td>24995</td>\n",
       "      <td>1.0</td>\n",
       "      <td>AMBIKA LAHENGA</td>\n",
       "      <td>{\"product_specification\"=&gt;[{\"key\"=&gt;\"Fabric\", \"...</td>\n",
       "      <td>Key Features of Ambika Lahenga Embroidered Leh...</td>\n",
       "    </tr>\n",
       "    <tr>\n",
       "      <th>8904</th>\n",
       "      <td>6b737a4deca1ed0e56c179e66036e994</td>\n",
       "      <td>West</td>\n",
       "      <td>01-12-2020</td>\n",
       "      <td>04-12-2020</td>\n",
       "      <td>04-12-2020</td>\n",
       "      <td>Sinina Chanderi Embroidered Salwar Suit Dupatt...</td>\n",
       "      <td>Clothing</td>\n",
       "      <td>Women's Clothing</td>\n",
       "      <td>Ethnic Wear</td>\n",
       "      <td>Fabric</td>\n",
       "      <td>FABEGGHHGSVCHGFV</td>\n",
       "      <td>2000</td>\n",
       "      <td>1000</td>\n",
       "      <td>3.0</td>\n",
       "      <td>SININA</td>\n",
       "      <td>{\"product_specification\"=&gt;[{\"key\"=&gt;\"Fabric\", \"...</td>\n",
       "      <td>Key Features of Sinina Chanderi Embroidered Sa...</td>\n",
       "    </tr>\n",
       "    <tr>\n",
       "      <th>8905</th>\n",
       "      <td>a5235ac28d3d5487f54025f9d6b57433</td>\n",
       "      <td>North</td>\n",
       "      <td>01-12-2020</td>\n",
       "      <td>04-12-2020</td>\n",
       "      <td>04-12-2020</td>\n",
       "      <td>Aarushi Fashion Silk Striped Salwar Suit Dupat...</td>\n",
       "      <td>Clothing</td>\n",
       "      <td>Women's Clothing</td>\n",
       "      <td>Ethnic Wear</td>\n",
       "      <td>Fabric</td>\n",
       "      <td>FABEG8GYDAABECZH</td>\n",
       "      <td>2800</td>\n",
       "      <td>1350</td>\n",
       "      <td>4.0</td>\n",
       "      <td>AARUSHI FASHION</td>\n",
       "      <td>{\"product_specification\"=&gt;[{\"key\"=&gt;\"Fabric\", \"...</td>\n",
       "      <td>Key Features of Aarushi Fashion Silk Striped S...</td>\n",
       "    </tr>\n",
       "  </tbody>\n",
       "</table>\n",
       "</div>"
      ],
      "text/plain": [
       "                      Customer_uniq_id Region  Order_Date  \\\n",
       "8896  4db03bc4ccbe216cf151b2f2b904ba3f  East   01-12-2020   \n",
       "8897  4d4d6aeb13fa253499d0dd45a5abd87e   West  01-12-2020   \n",
       "8898  ea19e7ef703293d3f6c799ca9db4642d   West  01-12-2020   \n",
       "8899  19a53a958992fb575acffb5d41e7ef9e  East   01-12-2020   \n",
       "8900  09abab80c8dfdc6f268e0a6f05a0be11  North  01-12-2020   \n",
       "8901  90d30478255e23621e8929ed15c2f6e4  South  01-12-2020   \n",
       "8902  20a73e3f41490a73ceeba5f17658db8f   West  01-12-2020   \n",
       "8903  5c1554cd45f9d538c2c6947dbdd59c75  East   01-12-2020   \n",
       "8904  6b737a4deca1ed0e56c179e66036e994   West  01-12-2020   \n",
       "8905  a5235ac28d3d5487f54025f9d6b57433  North  01-12-2020   \n",
       "\n",
       "     Expected_Delivery_Date Delivered_Date  \\\n",
       "8896             04-12-2020     04-12-2020   \n",
       "8897             04-12-2020     04-12-2020   \n",
       "8898             04-12-2020     04-12-2020   \n",
       "8899             04-12-2020     04-12-2020   \n",
       "8900             04-12-2020     04-12-2020   \n",
       "8901             04-12-2020     04-12-2020   \n",
       "8902             04-12-2020     04-12-2020   \n",
       "8903             04-12-2020     04-12-2020   \n",
       "8904             04-12-2020     04-12-2020   \n",
       "8905             04-12-2020     04-12-2020   \n",
       "\n",
       "                                           product_name product_main_category  \\\n",
       "8896                           Luca Fashion Girls Heels             Footwear    \n",
       "8897                            Shoetopia Girls Sandals             Footwear    \n",
       "8898                        SMART TRADERS Girls Sandals             Footwear    \n",
       "8899                                  Beanz Girls Flats             Footwear    \n",
       "8900                       Nova KT 728S Electric Kettle       Home & Kitchen    \n",
       "8901  Sinina Chanderi Embroidered Salwar Suit Dupatt...             Clothing    \n",
       "8902  Aarushi Fashion Chanderi Embroidered Salwar Su...             Clothing    \n",
       "8903  Ambika Lahenga Embroidered Lehenga, Choli and ...             Clothing    \n",
       "8904  Sinina Chanderi Embroidered Salwar Suit Dupatt...             Clothing    \n",
       "8905  Aarushi Fashion Silk Striped Salwar Suit Dupat...             Clothing    \n",
       "\n",
       "            product_subcategory                product_category_filter  \\\n",
       "8896   Kids' & Infant Footwear                              For Girls    \n",
       "8897   Kids' & Infant Footwear                              For Girls    \n",
       "8898   Kids' & Infant Footwear                              For Girls    \n",
       "8899   Kids' & Infant Footwear                              For Girls    \n",
       "8900        Kitchen Appliances    Electric Jug(heater)/Travel Kettles    \n",
       "8901          Women's Clothing                            Ethnic Wear    \n",
       "8902          Women's Clothing                            Ethnic Wear    \n",
       "8903          Women's Clothing                            Ethnic Wear    \n",
       "8904          Women's Clothing                            Ethnic Wear    \n",
       "8905          Women's Clothing                            Ethnic Wear    \n",
       "\n",
       "                      product_category_subfilter product_unique ID  \\\n",
       "8896                                    Sandals   SNDEHG3DNVBFGAT5   \n",
       "8897                                    Sandals   SNDEG7DRWSX8HFXZ   \n",
       "8898                                    Sandals   SNDEG7MZHHKZ58D2   \n",
       "8899                                    Sandals   SNDEG7DYVFWHZBC4   \n",
       "8900   Nova Electric Jug(heater)/Travel Kettles   EKTDG5C5QSADZZ8J   \n",
       "8901                                     Fabric   FABEGGHHDFMY8BZU   \n",
       "8902                                     Fabric   FABEG8GFDUWRSNU3   \n",
       "8903                             Lehenga Cholis   LEHEGGEHYN4G2RPW   \n",
       "8904                                     Fabric   FABEGGHHGSVCHGFV   \n",
       "8905                                     Fabric   FABEG8GYDAABECZH   \n",
       "\n",
       "      retail_price  discounted_price  product_rating            Brand  \\\n",
       "8896           999               499             4.0     LUCA FASHION   \n",
       "8897           499               399             4.0        SHOETOPIA   \n",
       "8898           999               499             5.0    SMART TRADERS   \n",
       "8899          1299              1299             3.0            BEANZ   \n",
       "8900          3195               699             3.6             NOVA   \n",
       "8901          2980              1490             3.0           SININA   \n",
       "8902          2600              1300             1.0  AARUSHI FASHION   \n",
       "8903         39992             24995             1.0   AMBIKA LAHENGA   \n",
       "8904          2000              1000             3.0           SININA   \n",
       "8905          2800              1350             4.0  AARUSHI FASHION   \n",
       "\n",
       "                                 product_specifications  \\\n",
       "8896  {\"product_specification\"=>[{\"key\"=>\"Occasion\",...   \n",
       "8897  {\"product_specification\"=>[{\"key\"=>\"Ideal For\"...   \n",
       "8898  {\"product_specification\"=>[{\"key\"=>\"Ideal For\"...   \n",
       "8899  {\"product_specification\"=>[{\"key\"=>\"Occasion\",...   \n",
       "8900  {\"product_specification\"=>[{\"key\"=>\"Brand\", \"v...   \n",
       "8901  {\"product_specification\"=>[{\"key\"=>\"Fabric\", \"...   \n",
       "8902  {\"product_specification\"=>[{\"key\"=>\"Fabric\", \"...   \n",
       "8903  {\"product_specification\"=>[{\"key\"=>\"Fabric\", \"...   \n",
       "8904  {\"product_specification\"=>[{\"key\"=>\"Fabric\", \"...   \n",
       "8905  {\"product_specification\"=>[{\"key\"=>\"Fabric\", \"...   \n",
       "\n",
       "                                            description  \n",
       "8896  Key Features of Luca Fashion Girls Heels Occas...  \n",
       "8897  Key Features of Shoetopia Girls Sandals Flats ...  \n",
       "8898  Key Features of SMART TRADERS Girls Sandals Oc...  \n",
       "8899  Key Features of Beanz Girls Flats Occasion: Ca...  \n",
       "8900  Specifications of Nova KT 728S Electric Kettle...  \n",
       "8901  Key Features of Sinina Chanderi Embroidered Sa...  \n",
       "8902  Key Features of Aarushi Fashion Chanderi Embro...  \n",
       "8903  Key Features of Ambika Lahenga Embroidered Leh...  \n",
       "8904  Key Features of Sinina Chanderi Embroidered Sa...  \n",
       "8905  Key Features of Aarushi Fashion Silk Striped S...  "
      ]
     },
     "execution_count": 5,
     "metadata": {},
     "output_type": "execute_result"
    }
   ],
   "source": [
    "ECom_Data.tail(10)"
   ]
  },
  {
   "cell_type": "markdown",
   "id": "48baeda6",
   "metadata": {},
   "source": [
    "#### Ans 1 b)"
   ]
  },
  {
   "cell_type": "code",
   "execution_count": 6,
   "id": "0ac3ef5d",
   "metadata": {},
   "outputs": [
    {
     "name": "stdout",
     "output_type": "stream",
     "text": [
      "There are 8906 rows and 17 columns.\n"
     ]
    }
   ],
   "source": [
    "ECom_Data.shape\n",
    "print('There are', ECom_Data.shape[0],'rows and', ECom_Data.shape[1],'columns.')"
   ]
  },
  {
   "cell_type": "markdown",
   "id": "3fa36fc8",
   "metadata": {},
   "source": [
    "### First method"
   ]
  },
  {
   "cell_type": "code",
   "execution_count": 7,
   "id": "8416f975",
   "metadata": {},
   "outputs": [
    {
     "name": "stdout",
     "output_type": "stream",
     "text": [
      "There are 8906 rows and 17 columns.\n"
     ]
    }
   ],
   "source": [
    "a=len(ECom_Data.index)\n",
    "b=len(ECom_Data.columns)\n",
    "print('There are',a, 'rows and',b,'columns.')"
   ]
  },
  {
   "cell_type": "markdown",
   "id": "361427a9",
   "metadata": {},
   "source": [
    "### Second method"
   ]
  },
  {
   "cell_type": "code",
   "execution_count": 8,
   "id": "0f7d31e3",
   "metadata": {},
   "outputs": [
    {
     "name": "stdout",
     "output_type": "stream",
     "text": [
      "<class 'pandas.core.frame.DataFrame'>\n",
      "RangeIndex: 8906 entries, 0 to 8905\n",
      "Data columns (total 17 columns):\n",
      " #   Column                      Non-Null Count  Dtype  \n",
      "---  ------                      --------------  -----  \n",
      " 0   Customer_uniq_id            8906 non-null   object \n",
      " 1   Region                      8906 non-null   object \n",
      " 2   Order_Date                  8906 non-null   object \n",
      " 3   Expected_Delivery_Date      8906 non-null   object \n",
      " 4   Delivered_Date              8906 non-null   object \n",
      " 5   product_name                8906 non-null   object \n",
      " 6   product_main_category       8906 non-null   object \n",
      " 7   product_subcategory         8906 non-null   object \n",
      " 8   product_category_filter     8906 non-null   object \n",
      " 9   product_category_subfilter  8906 non-null   object \n",
      " 10  product_unique ID           8906 non-null   object \n",
      " 11  retail_price                8906 non-null   int64  \n",
      " 12  discounted_price            8906 non-null   int64  \n",
      " 13  product_rating              8906 non-null   float64\n",
      " 14  Brand                       8906 non-null   object \n",
      " 15  product_specifications      8906 non-null   object \n",
      " 16  description                 8906 non-null   object \n",
      "dtypes: float64(1), int64(2), object(14)\n",
      "memory usage: 1.2+ MB\n"
     ]
    }
   ],
   "source": [
    "ECom_Data.info()"
   ]
  },
  {
   "cell_type": "markdown",
   "id": "9be0a302",
   "metadata": {},
   "source": [
    "Ans: We can also identify number of rows (RangeIndex: 8906) and columns (17 columns) by using info() method. "
   ]
  },
  {
   "cell_type": "markdown",
   "id": "6aaa54a0",
   "metadata": {},
   "source": [
    "#### Ans  1 c)"
   ]
  },
  {
   "cell_type": "code",
   "execution_count": 9,
   "id": "115627b2",
   "metadata": {},
   "outputs": [
    {
     "name": "stdout",
     "output_type": "stream",
     "text": [
      "<class 'pandas.core.frame.DataFrame'>\n",
      "RangeIndex: 8906 entries, 0 to 8905\n",
      "Data columns (total 17 columns):\n",
      " #   Column                      Non-Null Count  Dtype  \n",
      "---  ------                      --------------  -----  \n",
      " 0   Customer_uniq_id            8906 non-null   object \n",
      " 1   Region                      8906 non-null   object \n",
      " 2   Order_Date                  8906 non-null   object \n",
      " 3   Expected_Delivery_Date      8906 non-null   object \n",
      " 4   Delivered_Date              8906 non-null   object \n",
      " 5   product_name                8906 non-null   object \n",
      " 6   product_main_category       8906 non-null   object \n",
      " 7   product_subcategory         8906 non-null   object \n",
      " 8   product_category_filter     8906 non-null   object \n",
      " 9   product_category_subfilter  8906 non-null   object \n",
      " 10  product_unique ID           8906 non-null   object \n",
      " 11  retail_price                8906 non-null   int64  \n",
      " 12  discounted_price            8906 non-null   int64  \n",
      " 13  product_rating              8906 non-null   float64\n",
      " 14  Brand                       8906 non-null   object \n",
      " 15  product_specifications      8906 non-null   object \n",
      " 16  description                 8906 non-null   object \n",
      "dtypes: float64(1), int64(2), object(14)\n",
      "memory usage: 1.2+ MB\n"
     ]
    }
   ],
   "source": [
    "ECom_Data.info()"
   ]
  },
  {
   "cell_type": "markdown",
   "id": "55bad810",
   "metadata": {},
   "source": [
    "Ans: There are 14 Object data types."
   ]
  },
  {
   "cell_type": "markdown",
   "id": "5e63573c",
   "metadata": {},
   "source": [
    "### Ans 1 d)"
   ]
  },
  {
   "cell_type": "code",
   "execution_count": 10,
   "id": "2b96d5be",
   "metadata": {},
   "outputs": [
    {
     "data": {
      "text/plain": [
       "Customer_uniq_id          False\n",
       "Region                    False\n",
       "Order_Date                False\n",
       "Expected_Delivery_Date    False\n",
       "Delivered_Date            False\n",
       "                          ...  \n",
       "discounted_price          False\n",
       "product_rating            False\n",
       "Brand                     False\n",
       "product_specifications    False\n",
       "description               False\n",
       "Length: 17, dtype: bool"
      ]
     },
     "execution_count": 10,
     "metadata": {},
     "output_type": "execute_result"
    }
   ],
   "source": [
    "ECom_Data.dtypes == 'bool'"
   ]
  },
  {
   "cell_type": "markdown",
   "id": "7be955bc",
   "metadata": {},
   "source": [
    "Ans: Since all the values here are 'False', there is NO boolean data type."
   ]
  },
  {
   "cell_type": "markdown",
   "id": "cc5d76f1",
   "metadata": {},
   "source": [
    "<font color='blue'>\n",
    "    <font size = 5>\n",
    " Once you are familiar with the data, you may decide that not all features are of use to you and you may want to delete the non-informative features (columns)</font>"
   ]
  },
  {
   "cell_type": "markdown",
   "id": "90db65ce",
   "metadata": {},
   "source": [
    "## Q 2.\tEliminating the non-informative columns.\n",
    "## a)\tDrop the columns product_specifications and description. (2 marks) \n",
    "## b)\tWhich method or function is used to permanently delete the columns mentioned in part (a)? Write the code explicitly (2 marks)\n",
    "### Note: Use the markdown feature of Python to explain your answer.\n"
   ]
  },
  {
   "cell_type": "markdown",
   "id": "e0e7e762",
   "metadata": {},
   "source": [
    "### Ans 2 a)"
   ]
  },
  {
   "cell_type": "code",
   "execution_count": 11,
   "id": "35ad0821",
   "metadata": {},
   "outputs": [],
   "source": [
    "ECom_Data.drop(['product_specifications', 'description'], axis=1, inplace=True)"
   ]
  },
  {
   "cell_type": "code",
   "execution_count": 12,
   "id": "a46f719a",
   "metadata": {},
   "outputs": [
    {
     "data": {
      "text/html": [
       "<div>\n",
       "<style scoped>\n",
       "    .dataframe tbody tr th:only-of-type {\n",
       "        vertical-align: middle;\n",
       "    }\n",
       "\n",
       "    .dataframe tbody tr th {\n",
       "        vertical-align: top;\n",
       "    }\n",
       "\n",
       "    .dataframe thead th {\n",
       "        text-align: right;\n",
       "    }\n",
       "</style>\n",
       "<table border=\"1\" class=\"dataframe\">\n",
       "  <thead>\n",
       "    <tr style=\"text-align: right;\">\n",
       "      <th></th>\n",
       "      <th>Customer_uniq_id</th>\n",
       "      <th>Region</th>\n",
       "      <th>Order_Date</th>\n",
       "      <th>Expected_Delivery_Date</th>\n",
       "      <th>Delivered_Date</th>\n",
       "      <th>product_name</th>\n",
       "      <th>product_main_category</th>\n",
       "      <th>product_subcategory</th>\n",
       "      <th>product_category_filter</th>\n",
       "      <th>product_category_subfilter</th>\n",
       "      <th>product_unique ID</th>\n",
       "      <th>retail_price</th>\n",
       "      <th>discounted_price</th>\n",
       "      <th>product_rating</th>\n",
       "      <th>Brand</th>\n",
       "    </tr>\n",
       "  </thead>\n",
       "  <tbody>\n",
       "    <tr>\n",
       "      <th>0</th>\n",
       "      <td>e71017e224688489edfe856f2308806d</td>\n",
       "      <td>East</td>\n",
       "      <td>24-10-2021</td>\n",
       "      <td>25-10-2021</td>\n",
       "      <td>25-10-2021</td>\n",
       "      <td>Indcrown Net Embroidered Semi-stitched Lehenga...</td>\n",
       "      <td>Clothing</td>\n",
       "      <td>Women's Clothing</td>\n",
       "      <td>Ethnic Wear</td>\n",
       "      <td>Fabric</td>\n",
       "      <td>FABEJX2NHNKCYHKA</td>\n",
       "      <td>999</td>\n",
       "      <td>699</td>\n",
       "      <td>4.0</td>\n",
       "      <td>INDCROWN</td>\n",
       "    </tr>\n",
       "    <tr>\n",
       "      <th>1</th>\n",
       "      <td>6286847ee2da18f587503db49511c539</td>\n",
       "      <td>East</td>\n",
       "      <td>24-10-2021</td>\n",
       "      <td>25-10-2021</td>\n",
       "      <td>25-10-2021</td>\n",
       "      <td>Shopmania Music Band A5 Notebook Spiral Bound</td>\n",
       "      <td>Pens &amp; Stationery</td>\n",
       "      <td>Diaries &amp; Notebooks</td>\n",
       "      <td>Notebooks</td>\n",
       "      <td>Designer</td>\n",
       "      <td>DIAEJ6Z8BEDTGGYY</td>\n",
       "      <td>499</td>\n",
       "      <td>275</td>\n",
       "      <td>1.0</td>\n",
       "      <td>SHOPMANIA</td>\n",
       "    </tr>\n",
       "  </tbody>\n",
       "</table>\n",
       "</div>"
      ],
      "text/plain": [
       "                   Customer_uniq_id Region  Order_Date Expected_Delivery_Date  \\\n",
       "0  e71017e224688489edfe856f2308806d  East   24-10-2021             25-10-2021   \n",
       "1  6286847ee2da18f587503db49511c539  East   24-10-2021             25-10-2021   \n",
       "\n",
       "  Delivered_Date                                       product_name  \\\n",
       "0     25-10-2021  Indcrown Net Embroidered Semi-stitched Lehenga...   \n",
       "1     25-10-2021      Shopmania Music Band A5 Notebook Spiral Bound   \n",
       "\n",
       "  product_main_category    product_subcategory product_category_filter  \\\n",
       "0             Clothing       Women's Clothing             Ethnic Wear    \n",
       "1    Pens & Stationery    Diaries & Notebooks               Notebooks    \n",
       "\n",
       "  product_category_subfilter product_unique ID  retail_price  \\\n",
       "0                    Fabric   FABEJX2NHNKCYHKA           999   \n",
       "1                  Designer   DIAEJ6Z8BEDTGGYY           499   \n",
       "\n",
       "   discounted_price  product_rating      Brand  \n",
       "0               699             4.0   INDCROWN  \n",
       "1               275             1.0  SHOPMANIA  "
      ]
     },
     "execution_count": 12,
     "metadata": {},
     "output_type": "execute_result"
    }
   ],
   "source": [
    "ECom_Data.head(2)"
   ]
  },
  {
   "cell_type": "code",
   "execution_count": 13,
   "id": "acbf5287",
   "metadata": {},
   "outputs": [
    {
     "data": {
      "text/plain": [
       "(8906, 15)"
      ]
     },
     "execution_count": 13,
     "metadata": {},
     "output_type": "execute_result"
    }
   ],
   "source": [
    "ECom_Data.shape"
   ]
  },
  {
   "cell_type": "markdown",
   "id": "e6159f6a",
   "metadata": {},
   "source": [
    "### Ans 2 b)"
   ]
  },
  {
   "cell_type": "markdown",
   "id": "86ea4750",
   "metadata": {},
   "source": [
    "Ans: (inplace=True)\n",
    "\n",
    "    i) drop() method is used to remove any specified rows or columns; \n",
    "    ii) (axis=1) represents the column; \n",
    "    iii) (inplace=True): This method permanently deletes the column from the dataset in this case.\n",
    "\n",
    "   ECom_Data.drop(['product_specifications', 'description'], axis=1, inplace=True)"
   ]
  },
  {
   "cell_type": "markdown",
   "id": "cde421e0",
   "metadata": {},
   "source": [
    "<font color='blue'>\n",
    "    <font size = 5>\n",
    "        The next steps in this project involves summarization of data at various levels and visualization. Apparently, such simple steps are very useful to get an overall sense of the data.\n",
    "    </font>"
   ]
  },
  {
   "cell_type": "markdown",
   "id": "41c30ad7",
   "metadata": {},
   "source": [
    "## Q 3. Here we summarize the data at Brand level.\n",
    "## a) How many unique Brand are there? (2 marks)\n",
    "## b) Note that each Brand contains multiple products. Show the average product_rating within each Brand (2 marks)\n"
   ]
  },
  {
   "cell_type": "markdown",
   "id": "beb3f83f",
   "metadata": {},
   "source": [
    "### Ans 3 a)"
   ]
  },
  {
   "cell_type": "code",
   "execution_count": 14,
   "id": "41dcb79f",
   "metadata": {},
   "outputs": [
    {
     "data": {
      "text/plain": [
       "array(['INDCROWN', 'SHOPMANIA', 'TIARA DIARIES', ..., 'SININA',\n",
       "       'AARUSHI FASHION', 'AMBIKA LAHENGA'], dtype=object)"
      ]
     },
     "execution_count": 14,
     "metadata": {},
     "output_type": "execute_result"
    }
   ],
   "source": [
    "ECom_Data['Brand'].unique()"
   ]
  },
  {
   "cell_type": "code",
   "execution_count": 15,
   "id": "7f9b2387",
   "metadata": {},
   "outputs": [
    {
     "name": "stdout",
     "output_type": "stream",
     "text": [
      "There are 2484 unique brands in total.\n"
     ]
    }
   ],
   "source": [
    "ECom_Data['Brand'].nunique()\n",
    "print('There are', ECom_Data['Brand'].nunique(), 'unique brands in total.')"
   ]
  },
  {
   "cell_type": "markdown",
   "id": "5083d866",
   "metadata": {},
   "source": [
    "### Ans 3 b)"
   ]
  },
  {
   "cell_type": "code",
   "execution_count": 17,
   "id": "10018c2c",
   "metadata": {},
   "outputs": [
    {
     "data": {
      "text/plain": [
       "Brand\n",
       "1OAK           1.50\n",
       "3A AUTOCARE    3.27\n",
       "3D MAT         3.00\n",
       "3KFACTORY      2.00\n",
       "4D             3.60\n",
       "               ... \n",
       "ZORDEN         4.00\n",
       "ZOSIGN         3.40\n",
       "ZRESTHA        1.00\n",
       "ZYXEL          3.33\n",
       " TARKAN        5.00\n",
       "Name: product_rating, Length: 2484, dtype: float64"
      ]
     },
     "execution_count": 17,
     "metadata": {},
     "output_type": "execute_result"
    }
   ],
   "source": [
    "round(ECom_Data.groupby('Brand') ['product_rating'].mean(),2)"
   ]
  },
  {
   "cell_type": "markdown",
   "id": "e12cdb92",
   "metadata": {},
   "source": [
    "Ans: mean() function is used to show the average product rating withi each brand."
   ]
  },
  {
   "cell_type": "markdown",
   "id": "bbf162af",
   "metadata": {},
   "source": [
    "## Q 4. Next we study the main categories of the products.\n",
    "\n",
    "## a) Create an appropriate plot to show the count of items ordered for each product_main_category. (6 marks).\n",
    "\n",
    "### Hint: Create a bar chart titled \"Product Category type\" where product_main_category are on x-axis and counts are on y-axis.\n",
    "\n",
    "### Note: Both axis labels, i.e. the names of the product_main_category and counts must be clearly legible. \n",
    "\n",
    "## b) From the plot identify for which two product_main_category(s)  maximum and minimum orders were placed. (2 marks)\n",
    "\n",
    "## c) Write code to print out the top 5 product_main_category(s)  in descending order? (3 marks"
   ]
  },
  {
   "cell_type": "code",
   "execution_count": null,
   "id": "5c65c13f",
   "metadata": {},
   "outputs": [],
   "source": []
  },
  {
   "cell_type": "markdown",
   "id": "36c72928",
   "metadata": {},
   "source": [
    "### Ans 4 a)"
   ]
  },
  {
   "cell_type": "code",
   "execution_count": 18,
   "id": "f60dd2c1",
   "metadata": {},
   "outputs": [
    {
     "data": {
      "image/png": "[encoded data removed]",
      "text/plain": [
       "<Figure size 1500x700 with 1 Axes>"
      ]
     },
     "metadata": {},
     "output_type": "display_data"
    }
   ],
   "source": [
    "plt.figure(figsize=(15,7))\n",
    "plt.title('Product Category type')\n",
    "sns.countplot(data=ECom_Data, x='product_main_category')\n",
    "plt.xticks(rotation=90);"
   ]
  },
  {
   "cell_type": "markdown",
   "id": "13a5b355",
   "metadata": {},
   "source": [
    "### Ans 4 b)"
   ]
  },
  {
   "cell_type": "markdown",
   "id": "ffb145a0",
   "metadata": {},
   "source": [
    "Ans:  Maximum orders were placed for: 'Clothing' and 'Mobiles & Accessories'\n",
    "      Minimum orders were placed for: 'Food & Nutition' and 'Wearable Smart Devices'"
   ]
  },
  {
   "cell_type": "markdown",
   "id": "4ea60c92",
   "metadata": {},
   "source": [
    "### Ans 4 c)"
   ]
  },
  {
   "cell_type": "code",
   "execution_count": 19,
   "id": "7f704116",
   "metadata": {},
   "outputs": [
    {
     "data": {
      "text/plain": [
       "Clothing                       2943\n",
       "Mobiles & Accessories          1084\n",
       "Automotive                     1001\n",
       "Home Decor & Festive Needs      727\n",
       "Computers                       558\n",
       "Name: product_main_category, dtype: int64"
      ]
     },
     "execution_count": 19,
     "metadata": {},
     "output_type": "execute_result"
    }
   ],
   "source": [
    "ECom_Data['product_main_category'].value_counts().head()"
   ]
  },
  {
   "cell_type": "markdown",
   "id": "0d244b78",
   "metadata": {},
   "source": [
    "Ans: Value_counts() function counts the unique values and the output shows the values in descending order by default. "
   ]
  },
  {
   "cell_type": "markdown",
   "id": "a9f81605",
   "metadata": {},
   "source": [
    "<font color='blue'>\n",
    "    <font size = 5>\n",
    "    In E-commerce, both the retailers (here brands) and the company have to make profit to sustain in the business. \n",
    "    The E-Commerce company has the following rule for computing their own revenue: </font> \n",
    "    \n",
    "####     The company charges  \n",
    "####  (i) 25% on the orders having final price (discounted price) greater than 600\n",
    "\n",
    "#### (ii) 15% on the orders having final price (discounted price) greater than 350 but less than or equal to 600\n",
    "\n",
    "#### (iii) 10% on the orders having final price (discounted price) greater than 100 but less than or equal to 350\n",
    "\n",
    "#### (iv) Otherwise, 5% on the final price (discounted price)    </font> "
   ]
  },
  {
   "cell_type": "markdown",
   "id": "0f255fea",
   "metadata": {},
   "source": [
    "## Q 5. Find the Total Revenue generated by the E-Commerce company over all orders placed. (6 marks)\n",
    "\n",
    "#### Hint: Calculate revenue of E-commerce company using the conditions mentioned above and then do the total (sum) of all to get total Revenue. "
   ]
  },
  {
   "cell_type": "markdown",
   "id": "1f6b8028",
   "metadata": {},
   "source": [
    "### Ans 5"
   ]
  },
  {
   "cell_type": "code",
   "execution_count": 20,
   "id": "c62d888f",
   "metadata": {},
   "outputs": [
    {
     "data": {
      "text/html": [
       "<div>\n",
       "<style scoped>\n",
       "    .dataframe tbody tr th:only-of-type {\n",
       "        vertical-align: middle;\n",
       "    }\n",
       "\n",
       "    .dataframe tbody tr th {\n",
       "        vertical-align: top;\n",
       "    }\n",
       "\n",
       "    .dataframe thead th {\n",
       "        text-align: right;\n",
       "    }\n",
       "</style>\n",
       "<table border=\"1\" class=\"dataframe\">\n",
       "  <thead>\n",
       "    <tr style=\"text-align: right;\">\n",
       "      <th></th>\n",
       "      <th>Customer_uniq_id</th>\n",
       "      <th>Region</th>\n",
       "      <th>Order_Date</th>\n",
       "      <th>Expected_Delivery_Date</th>\n",
       "      <th>Delivered_Date</th>\n",
       "      <th>product_name</th>\n",
       "      <th>product_main_category</th>\n",
       "      <th>product_subcategory</th>\n",
       "      <th>product_category_filter</th>\n",
       "      <th>product_category_subfilter</th>\n",
       "      <th>product_unique ID</th>\n",
       "      <th>retail_price</th>\n",
       "      <th>discounted_price</th>\n",
       "      <th>product_rating</th>\n",
       "      <th>Brand</th>\n",
       "    </tr>\n",
       "  </thead>\n",
       "  <tbody>\n",
       "    <tr>\n",
       "      <th>0</th>\n",
       "      <td>e71017e224688489edfe856f2308806d</td>\n",
       "      <td>East</td>\n",
       "      <td>24-10-2021</td>\n",
       "      <td>25-10-2021</td>\n",
       "      <td>25-10-2021</td>\n",
       "      <td>Indcrown Net Embroidered Semi-stitched Lehenga...</td>\n",
       "      <td>Clothing</td>\n",
       "      <td>Women's Clothing</td>\n",
       "      <td>Ethnic Wear</td>\n",
       "      <td>Fabric</td>\n",
       "      <td>FABEJX2NHNKCYHKA</td>\n",
       "      <td>999</td>\n",
       "      <td>699</td>\n",
       "      <td>4.0</td>\n",
       "      <td>INDCROWN</td>\n",
       "    </tr>\n",
       "    <tr>\n",
       "      <th>1</th>\n",
       "      <td>6286847ee2da18f587503db49511c539</td>\n",
       "      <td>East</td>\n",
       "      <td>24-10-2021</td>\n",
       "      <td>25-10-2021</td>\n",
       "      <td>25-10-2021</td>\n",
       "      <td>Shopmania Music Band A5 Notebook Spiral Bound</td>\n",
       "      <td>Pens &amp; Stationery</td>\n",
       "      <td>Diaries &amp; Notebooks</td>\n",
       "      <td>Notebooks</td>\n",
       "      <td>Designer</td>\n",
       "      <td>DIAEJ6Z8BEDTGGYY</td>\n",
       "      <td>499</td>\n",
       "      <td>275</td>\n",
       "      <td>1.0</td>\n",
       "      <td>SHOPMANIA</td>\n",
       "    </tr>\n",
       "  </tbody>\n",
       "</table>\n",
       "</div>"
      ],
      "text/plain": [
       "                   Customer_uniq_id Region  Order_Date Expected_Delivery_Date  \\\n",
       "0  e71017e224688489edfe856f2308806d  East   24-10-2021             25-10-2021   \n",
       "1  6286847ee2da18f587503db49511c539  East   24-10-2021             25-10-2021   \n",
       "\n",
       "  Delivered_Date                                       product_name  \\\n",
       "0     25-10-2021  Indcrown Net Embroidered Semi-stitched Lehenga...   \n",
       "1     25-10-2021      Shopmania Music Band A5 Notebook Spiral Bound   \n",
       "\n",
       "  product_main_category    product_subcategory product_category_filter  \\\n",
       "0             Clothing       Women's Clothing             Ethnic Wear    \n",
       "1    Pens & Stationery    Diaries & Notebooks               Notebooks    \n",
       "\n",
       "  product_category_subfilter product_unique ID  retail_price  \\\n",
       "0                    Fabric   FABEJX2NHNKCYHKA           999   \n",
       "1                  Designer   DIAEJ6Z8BEDTGGYY           499   \n",
       "\n",
       "   discounted_price  product_rating      Brand  \n",
       "0               699             4.0   INDCROWN  \n",
       "1               275             1.0  SHOPMANIA  "
      ]
     },
     "execution_count": 20,
     "metadata": {},
     "output_type": "execute_result"
    }
   ],
   "source": [
    "ECom_Data.head(2)"
   ]
  },
  {
   "cell_type": "code",
   "execution_count": 21,
   "id": "f24a155f",
   "metadata": {},
   "outputs": [],
   "source": [
    "def Revenue(x):\n",
    "    discounted_price=x\n",
    "    if discounted_price>600:\n",
    "        Revenue=discounted_price*0.25        \n",
    "        return Revenue\n",
    "    \n",
    "    elif (discounted_price>350) and (discounted_price<=600):\n",
    "        Revenue=discounted_price*0.15        \n",
    "        return Revenue\n",
    "    \n",
    "    elif (discounted_price>100) and (discounted_price<=350):\n",
    "        Revenue=discounted_price*0.10       \n",
    "        return Revenue\n",
    "       \n",
    "    else:\n",
    "        Revenue=discounted_price*0.05       \n",
    "        return Revenue"
   ]
  },
  {
   "cell_type": "code",
   "execution_count": 22,
   "id": "5a5a1a1d",
   "metadata": {},
   "outputs": [
    {
     "data": {
      "text/html": [
       "<div>\n",
       "<style scoped>\n",
       "    .dataframe tbody tr th:only-of-type {\n",
       "        vertical-align: middle;\n",
       "    }\n",
       "\n",
       "    .dataframe tbody tr th {\n",
       "        vertical-align: top;\n",
       "    }\n",
       "\n",
       "    .dataframe thead th {\n",
       "        text-align: right;\n",
       "    }\n",
       "</style>\n",
       "<table border=\"1\" class=\"dataframe\">\n",
       "  <thead>\n",
       "    <tr style=\"text-align: right;\">\n",
       "      <th></th>\n",
       "      <th>Customer_uniq_id</th>\n",
       "      <th>Region</th>\n",
       "      <th>Order_Date</th>\n",
       "      <th>Expected_Delivery_Date</th>\n",
       "      <th>Delivered_Date</th>\n",
       "      <th>product_name</th>\n",
       "      <th>product_main_category</th>\n",
       "      <th>product_subcategory</th>\n",
       "      <th>product_category_filter</th>\n",
       "      <th>product_category_subfilter</th>\n",
       "      <th>product_unique ID</th>\n",
       "      <th>retail_price</th>\n",
       "      <th>discounted_price</th>\n",
       "      <th>product_rating</th>\n",
       "      <th>Brand</th>\n",
       "      <th>Revenue</th>\n",
       "    </tr>\n",
       "  </thead>\n",
       "  <tbody>\n",
       "    <tr>\n",
       "      <th>0</th>\n",
       "      <td>e71017e224688489edfe856f2308806d</td>\n",
       "      <td>East</td>\n",
       "      <td>24-10-2021</td>\n",
       "      <td>25-10-2021</td>\n",
       "      <td>25-10-2021</td>\n",
       "      <td>Indcrown Net Embroidered Semi-stitched Lehenga...</td>\n",
       "      <td>Clothing</td>\n",
       "      <td>Women's Clothing</td>\n",
       "      <td>Ethnic Wear</td>\n",
       "      <td>Fabric</td>\n",
       "      <td>FABEJX2NHNKCYHKA</td>\n",
       "      <td>999</td>\n",
       "      <td>699</td>\n",
       "      <td>4.0</td>\n",
       "      <td>INDCROWN</td>\n",
       "      <td>174.75</td>\n",
       "    </tr>\n",
       "    <tr>\n",
       "      <th>1</th>\n",
       "      <td>6286847ee2da18f587503db49511c539</td>\n",
       "      <td>East</td>\n",
       "      <td>24-10-2021</td>\n",
       "      <td>25-10-2021</td>\n",
       "      <td>25-10-2021</td>\n",
       "      <td>Shopmania Music Band A5 Notebook Spiral Bound</td>\n",
       "      <td>Pens &amp; Stationery</td>\n",
       "      <td>Diaries &amp; Notebooks</td>\n",
       "      <td>Notebooks</td>\n",
       "      <td>Designer</td>\n",
       "      <td>DIAEJ6Z8BEDTGGYY</td>\n",
       "      <td>499</td>\n",
       "      <td>275</td>\n",
       "      <td>1.0</td>\n",
       "      <td>SHOPMANIA</td>\n",
       "      <td>27.50</td>\n",
       "    </tr>\n",
       "    <tr>\n",
       "      <th>2</th>\n",
       "      <td>0686fec9b70e5039583a38119ca0c835</td>\n",
       "      <td>West</td>\n",
       "      <td>24-10-2021</td>\n",
       "      <td>25-10-2021</td>\n",
       "      <td>25-10-2021</td>\n",
       "      <td>Shopmania Music Band A5 Notebook Spiral Bound</td>\n",
       "      <td>Pens &amp; Stationery</td>\n",
       "      <td>Diaries &amp; Notebooks</td>\n",
       "      <td>Notebooks</td>\n",
       "      <td>Designer</td>\n",
       "      <td>DIAEJ6Z8KQFWDEGH</td>\n",
       "      <td>499</td>\n",
       "      <td>275</td>\n",
       "      <td>2.0</td>\n",
       "      <td>SHOPMANIA</td>\n",
       "      <td>27.50</td>\n",
       "    </tr>\n",
       "  </tbody>\n",
       "</table>\n",
       "</div>"
      ],
      "text/plain": [
       "                   Customer_uniq_id Region  Order_Date Expected_Delivery_Date  \\\n",
       "0  e71017e224688489edfe856f2308806d  East   24-10-2021             25-10-2021   \n",
       "1  6286847ee2da18f587503db49511c539  East   24-10-2021             25-10-2021   \n",
       "2  0686fec9b70e5039583a38119ca0c835   West  24-10-2021             25-10-2021   \n",
       "\n",
       "  Delivered_Date                                       product_name  \\\n",
       "0     25-10-2021  Indcrown Net Embroidered Semi-stitched Lehenga...   \n",
       "1     25-10-2021      Shopmania Music Band A5 Notebook Spiral Bound   \n",
       "2     25-10-2021      Shopmania Music Band A5 Notebook Spiral Bound   \n",
       "\n",
       "  product_main_category    product_subcategory product_category_filter  \\\n",
       "0             Clothing       Women's Clothing             Ethnic Wear    \n",
       "1    Pens & Stationery    Diaries & Notebooks               Notebooks    \n",
       "2    Pens & Stationery    Diaries & Notebooks               Notebooks    \n",
       "\n",
       "  product_category_subfilter product_unique ID  retail_price  \\\n",
       "0                    Fabric   FABEJX2NHNKCYHKA           999   \n",
       "1                  Designer   DIAEJ6Z8BEDTGGYY           499   \n",
       "2                  Designer   DIAEJ6Z8KQFWDEGH           499   \n",
       "\n",
       "   discounted_price  product_rating      Brand  Revenue  \n",
       "0               699             4.0   INDCROWN   174.75  \n",
       "1               275             1.0  SHOPMANIA    27.50  \n",
       "2               275             2.0  SHOPMANIA    27.50  "
      ]
     },
     "execution_count": 22,
     "metadata": {},
     "output_type": "execute_result"
    }
   ],
   "source": [
    "ECom_Data['Revenue']=ECom_Data['discounted_price'].apply(lambda x: Revenue(x))\n",
    "ECom_Data.head(3)"
   ]
  },
  {
   "cell_type": "code",
   "execution_count": 24,
   "id": "5c25d900",
   "metadata": {},
   "outputs": [
    {
     "name": "stdout",
     "output_type": "stream",
     "text": [
      "Total Revenue Generated by the E-Commerce company is 2217486.85\n"
     ]
    }
   ],
   "source": [
    "ECom_Data['Revenue'].sum()\n",
    "print('Total Revenue Generated by the E-Commerce company is', ECom_Data['Revenue'].sum())"
   ]
  },
  {
   "cell_type": "markdown",
   "id": "5f4a03b5",
   "metadata": {},
   "source": [
    "Ans: User defined function 'def' is used with conditional statements (if, else) to satisfy the conditions, and applied the       function to the discounted_price column and created a new column 'Revenue'.\n",
    "sum() function is used to calculate the total revenue generated by the e-commerce company."
   ]
  },
  {
   "cell_type": "markdown",
   "id": "9161ca8c",
   "metadata": {},
   "source": [
    "<font color='blue'>\n",
    "    <font size = 5>\n",
    "    Now you need to find the revenue for each retailer (Brand)\n",
    "    </font>"
   ]
  },
  {
   "cell_type": "markdown",
   "id": "73dd23c3",
   "metadata": {},
   "source": [
    "## Q6.Calculate the total BrandRevenue and list the top 10 Brand having maximum revenue in descending order (6 marks)\n",
    "#### Hint: Total BrandRevenue is BrandRevenue which is generated after all the deductions. Also, BrandRevenue is different from the E-Commerce company's revenue.\n",
    "#### Brand Revenue is the discounted price minus the Revenue (generated using the conditions given above Q5)\n"
   ]
  },
  {
   "cell_type": "markdown",
   "id": "3514fa79",
   "metadata": {},
   "source": [
    "### Ans 6"
   ]
  },
  {
   "cell_type": "code",
   "execution_count": 26,
   "id": "437c69b5",
   "metadata": {},
   "outputs": [
    {
     "data": {
      "text/html": [
       "<div>\n",
       "<style scoped>\n",
       "    .dataframe tbody tr th:only-of-type {\n",
       "        vertical-align: middle;\n",
       "    }\n",
       "\n",
       "    .dataframe tbody tr th {\n",
       "        vertical-align: top;\n",
       "    }\n",
       "\n",
       "    .dataframe thead th {\n",
       "        text-align: right;\n",
       "    }\n",
       "</style>\n",
       "<table border=\"1\" class=\"dataframe\">\n",
       "  <thead>\n",
       "    <tr style=\"text-align: right;\">\n",
       "      <th></th>\n",
       "      <th>Customer_uniq_id</th>\n",
       "      <th>Region</th>\n",
       "      <th>Order_Date</th>\n",
       "      <th>Expected_Delivery_Date</th>\n",
       "      <th>Delivered_Date</th>\n",
       "      <th>product_name</th>\n",
       "      <th>product_main_category</th>\n",
       "      <th>product_subcategory</th>\n",
       "      <th>product_category_filter</th>\n",
       "      <th>product_category_subfilter</th>\n",
       "      <th>product_unique ID</th>\n",
       "      <th>retail_price</th>\n",
       "      <th>discounted_price</th>\n",
       "      <th>product_rating</th>\n",
       "      <th>Brand</th>\n",
       "      <th>Revenue</th>\n",
       "      <th>BrandRevenue</th>\n",
       "      <th>Brand_Revenue</th>\n",
       "    </tr>\n",
       "  </thead>\n",
       "  <tbody>\n",
       "    <tr>\n",
       "      <th>0</th>\n",
       "      <td>e71017e224688489edfe856f2308806d</td>\n",
       "      <td>East</td>\n",
       "      <td>24-10-2021</td>\n",
       "      <td>25-10-2021</td>\n",
       "      <td>25-10-2021</td>\n",
       "      <td>Indcrown Net Embroidered Semi-stitched Lehenga...</td>\n",
       "      <td>Clothing</td>\n",
       "      <td>Women's Clothing</td>\n",
       "      <td>Ethnic Wear</td>\n",
       "      <td>Fabric</td>\n",
       "      <td>FABEJX2NHNKCYHKA</td>\n",
       "      <td>999</td>\n",
       "      <td>699</td>\n",
       "      <td>4.0</td>\n",
       "      <td>INDCROWN</td>\n",
       "      <td>174.75</td>\n",
       "      <td>524.25</td>\n",
       "      <td>524.25</td>\n",
       "    </tr>\n",
       "    <tr>\n",
       "      <th>1</th>\n",
       "      <td>6286847ee2da18f587503db49511c539</td>\n",
       "      <td>East</td>\n",
       "      <td>24-10-2021</td>\n",
       "      <td>25-10-2021</td>\n",
       "      <td>25-10-2021</td>\n",
       "      <td>Shopmania Music Band A5 Notebook Spiral Bound</td>\n",
       "      <td>Pens &amp; Stationery</td>\n",
       "      <td>Diaries &amp; Notebooks</td>\n",
       "      <td>Notebooks</td>\n",
       "      <td>Designer</td>\n",
       "      <td>DIAEJ6Z8BEDTGGYY</td>\n",
       "      <td>499</td>\n",
       "      <td>275</td>\n",
       "      <td>1.0</td>\n",
       "      <td>SHOPMANIA</td>\n",
       "      <td>27.50</td>\n",
       "      <td>247.50</td>\n",
       "      <td>247.50</td>\n",
       "    </tr>\n",
       "  </tbody>\n",
       "</table>\n",
       "</div>"
      ],
      "text/plain": [
       "                   Customer_uniq_id Region  Order_Date Expected_Delivery_Date  \\\n",
       "0  e71017e224688489edfe856f2308806d  East   24-10-2021             25-10-2021   \n",
       "1  6286847ee2da18f587503db49511c539  East   24-10-2021             25-10-2021   \n",
       "\n",
       "  Delivered_Date                                       product_name  \\\n",
       "0     25-10-2021  Indcrown Net Embroidered Semi-stitched Lehenga...   \n",
       "1     25-10-2021      Shopmania Music Band A5 Notebook Spiral Bound   \n",
       "\n",
       "  product_main_category    product_subcategory product_category_filter  \\\n",
       "0             Clothing       Women's Clothing             Ethnic Wear    \n",
       "1    Pens & Stationery    Diaries & Notebooks               Notebooks    \n",
       "\n",
       "  product_category_subfilter product_unique ID  retail_price  \\\n",
       "0                    Fabric   FABEJX2NHNKCYHKA           999   \n",
       "1                  Designer   DIAEJ6Z8BEDTGGYY           499   \n",
       "\n",
       "   discounted_price  product_rating      Brand  Revenue  BrandRevenue  \\\n",
       "0               699             4.0   INDCROWN   174.75        524.25   \n",
       "1               275             1.0  SHOPMANIA    27.50        247.50   \n",
       "\n",
       "   Brand_Revenue  \n",
       "0         524.25  \n",
       "1         247.50  "
      ]
     },
     "execution_count": 26,
     "metadata": {},
     "output_type": "execute_result"
    }
   ],
   "source": [
    "ECom_Data['Brand_Revenue']=ECom_Data['discounted_price']-ECom_Data['Revenue']\n",
    "ECom_Data.head(2)"
   ]
  },
  {
   "cell_type": "code",
   "execution_count": 27,
   "id": "30dc4c02",
   "metadata": {},
   "outputs": [
    {
     "name": "stdout",
     "output_type": "stream",
     "text": [
      "Total Brand revenue is 7522992.15\n"
     ]
    }
   ],
   "source": [
    "ECom_Data['Brand_Revenue'].sum()\n",
    "print('Total Brand revenue is', ECom_Data['Brand_Revenue'].sum())"
   ]
  },
  {
   "cell_type": "code",
   "execution_count": 28,
   "id": "7cc29b25",
   "metadata": {},
   "outputs": [
    {
     "data": {
      "text/plain": [
       "Brand\n",
       "ALLURE AUTO     498464.25\n",
       "GAGA            237390.00\n",
       "SLIM            212062.60\n",
       "DAILYOBJECTS    181980.00\n",
       "DIVINITI        143115.00\n",
       "THELOSTPUPPY    127287.50\n",
       "REGULAR         126536.50\n",
       "ENTHOPIA        123146.25\n",
       "ASUS             99241.50\n",
       "SPRINGWEL        88978.50\n",
       "Name: Brand_Revenue, dtype: float64"
      ]
     },
     "execution_count": 28,
     "metadata": {},
     "output_type": "execute_result"
    }
   ],
   "source": [
    "ECom_Data.groupby('Brand') ['Brand_Revenue'].sum().sort_values(ascending=False).head(10)"
   ]
  },
  {
   "cell_type": "markdown",
   "id": "2a2bbd83",
   "metadata": {},
   "source": [
    "<font color='blue'>\n",
    "    <font size = 5>\n",
    "Let us now investigate multiple features for each product to determine any pattern.\n",
    "</font>"
   ]
  },
  {
   "cell_type": "markdown",
   "id": "1aa1834b",
   "metadata": {},
   "source": [
    "## Q 7. Compare prices for each product.\n",
    "\n",
    "## a)\tDraw boxplots of retail_price & discounted_price. (3 marks)\n",
    "\n",
    "## b)\t Are there any outliers? (Yes/No) (1mark)\n",
    "\n",
    "## c)\tCreate a scatterplot of retail_price (x-axis) and discounted_price (y-axis) (3 marks)\n"
   ]
  },
  {
   "cell_type": "markdown",
   "id": "d5aae861",
   "metadata": {},
   "source": [
    "### Ans 7 a)"
   ]
  },
  {
   "cell_type": "code",
   "execution_count": 29,
   "id": "510fd4d0",
   "metadata": {
    "scrolled": false
   },
   "outputs": [
    {
     "data": {
      "image/png": "[encoded data removed]",
      "text/plain": [
       "<Figure size 1500x700 with 1 Axes>"
      ]
     },
     "metadata": {},
     "output_type": "display_data"
    }
   ],
   "source": [
    "plt.figure(figsize=(15,7))\n",
    "plt.title('Boxplot: Price')\n",
    "plt.xlim(0,10000)\n",
    "plt.xlabel('retail_price')\n",
    "sns.boxplot(data=ECom_Data, x='retail_price');"
   ]
  },
  {
   "cell_type": "code",
   "execution_count": null,
   "id": "29995f6d",
   "metadata": {},
   "outputs": [],
   "source": []
  },
  {
   "cell_type": "code",
   "execution_count": 30,
   "id": "6ff06239",
   "metadata": {},
   "outputs": [
    {
     "data": {
      "image/png": "[encoded data removed]",
      "text/plain": [
       "<Figure size 1500x700 with 1 Axes>"
      ]
     },
     "metadata": {},
     "output_type": "display_data"
    }
   ],
   "source": [
    "plt.figure(figsize=(15,7))\n",
    "plt.title('Boxplot: Price')\n",
    "plt.xlim(0,6000)\n",
    "plt.xlabel('discounted_price')\n",
    "sns.boxplot(data=ECom_Data, x='discounted_price');"
   ]
  },
  {
   "cell_type": "markdown",
   "id": "78b92e7c",
   "metadata": {},
   "source": [
    "### Ans 7 b)"
   ]
  },
  {
   "cell_type": "markdown",
   "id": "a1e2d34c",
   "metadata": {},
   "source": [
    "Ans: Yes! There are outlliers."
   ]
  },
  {
   "cell_type": "markdown",
   "id": "0389c9b8",
   "metadata": {},
   "source": [
    "### Ans 7 c)"
   ]
  },
  {
   "cell_type": "code",
   "execution_count": 31,
   "id": "d8c44be9",
   "metadata": {},
   "outputs": [
    {
     "data": {
      "image/png": "[encoded data removed]",
      "text/plain": [
       "<Figure size 1000x700 with 1 Axes>"
      ]
     },
     "metadata": {},
     "output_type": "display_data"
    }
   ],
   "source": [
    "plt.figure(figsize=(10,7))\n",
    "plt.title('Scatterplot: Prices')\n",
    "sns.scatterplot(data=ECom_Data, x='retail_price', y='discounted_price');"
   ]
  },
  {
   "cell_type": "markdown",
   "id": "894c86f4",
   "metadata": {},
   "source": [
    "Ans: Positively correlated"
   ]
  },
  {
   "cell_type": "markdown",
   "id": "3bc47f55",
   "metadata": {},
   "source": [
    "<font color='blue'>\n",
    "    <font size = 5>\n",
    "    The next steps will enable to study brand-level information.\n",
    "    </font>"
   ]
  },
  {
   "cell_type": "markdown",
   "id": "b9bd00f7",
   "metadata": {},
   "source": [
    "## Q 8. Create a new dataframe to include the Brand specific information as stated:\n",
    "## i.\ttotal number of orders placed per Brand\n",
    "## ii.\ttotal retail_price per Brand\n",
    "## iii.\ttotal discounted_price per Brand, and \n",
    "## iv.\ttotal BrandRevenue generated per Brand. \n",
    "\n",
    "## Also, draw a pairplot using these four features. (6 marks)\n"
   ]
  },
  {
   "cell_type": "markdown",
   "id": "8f83cea9",
   "metadata": {},
   "source": [
    "### Ans 8"
   ]
  },
  {
   "cell_type": "code",
   "execution_count": 32,
   "id": "ae749847",
   "metadata": {},
   "outputs": [
    {
     "data": {
      "text/html": [
       "<div>\n",
       "<style scoped>\n",
       "    .dataframe tbody tr th:only-of-type {\n",
       "        vertical-align: middle;\n",
       "    }\n",
       "\n",
       "    .dataframe tbody tr th {\n",
       "        vertical-align: top;\n",
       "    }\n",
       "\n",
       "    .dataframe thead th {\n",
       "        text-align: right;\n",
       "    }\n",
       "</style>\n",
       "<table border=\"1\" class=\"dataframe\">\n",
       "  <thead>\n",
       "    <tr style=\"text-align: right;\">\n",
       "      <th></th>\n",
       "      <th>Order_Date</th>\n",
       "      <th>retail_price</th>\n",
       "      <th>discounted_price</th>\n",
       "      <th>Brand_Revenue</th>\n",
       "    </tr>\n",
       "    <tr>\n",
       "      <th>Brand</th>\n",
       "      <th></th>\n",
       "      <th></th>\n",
       "      <th></th>\n",
       "      <th></th>\n",
       "    </tr>\n",
       "  </thead>\n",
       "  <tbody>\n",
       "    <tr>\n",
       "      <th>1OAK</th>\n",
       "      <td>2</td>\n",
       "      <td>1698</td>\n",
       "      <td>1274</td>\n",
       "      <td>1015.4</td>\n",
       "    </tr>\n",
       "    <tr>\n",
       "      <th>3A AUTOCARE</th>\n",
       "      <td>41</td>\n",
       "      <td>107059</td>\n",
       "      <td>74134</td>\n",
       "      <td>55647.9</td>\n",
       "    </tr>\n",
       "  </tbody>\n",
       "</table>\n",
       "</div>"
      ],
      "text/plain": [
       "             Order_Date  retail_price  discounted_price  Brand_Revenue\n",
       "Brand                                                                 \n",
       "1OAK                  2          1698              1274         1015.4\n",
       "3A AUTOCARE          41        107059             74134        55647.9"
      ]
     },
     "execution_count": 32,
     "metadata": {},
     "output_type": "execute_result"
    }
   ],
   "source": [
    "List = ECom_Data.groupby('Brand').agg({'Order_Date':'count', 'retail_price':'sum', 'discounted_price':'sum', 'Brand_Revenue':'sum' })\n",
    "ECom_Data_n = pd.DataFrame(List)\n",
    "ECom_Data_n.head(2)"
   ]
  },
  {
   "cell_type": "code",
   "execution_count": 34,
   "id": "35122d87",
   "metadata": {},
   "outputs": [
    {
     "data": {
      "text/html": [
       "<div>\n",
       "<style scoped>\n",
       "    .dataframe tbody tr th:only-of-type {\n",
       "        vertical-align: middle;\n",
       "    }\n",
       "\n",
       "    .dataframe tbody tr th {\n",
       "        vertical-align: top;\n",
       "    }\n",
       "\n",
       "    .dataframe thead th {\n",
       "        text-align: right;\n",
       "    }\n",
       "</style>\n",
       "<table border=\"1\" class=\"dataframe\">\n",
       "  <thead>\n",
       "    <tr style=\"text-align: right;\">\n",
       "      <th></th>\n",
       "      <th>orders_placed</th>\n",
       "      <th>retail_price</th>\n",
       "      <th>discounted_price</th>\n",
       "      <th>Brand_Revenue</th>\n",
       "    </tr>\n",
       "    <tr>\n",
       "      <th>Brand</th>\n",
       "      <th></th>\n",
       "      <th></th>\n",
       "      <th></th>\n",
       "      <th></th>\n",
       "    </tr>\n",
       "  </thead>\n",
       "  <tbody>\n",
       "    <tr>\n",
       "      <th>1OAK</th>\n",
       "      <td>2</td>\n",
       "      <td>1698</td>\n",
       "      <td>1274</td>\n",
       "      <td>1015.4</td>\n",
       "    </tr>\n",
       "    <tr>\n",
       "      <th>3A AUTOCARE</th>\n",
       "      <td>41</td>\n",
       "      <td>107059</td>\n",
       "      <td>74134</td>\n",
       "      <td>55647.9</td>\n",
       "    </tr>\n",
       "  </tbody>\n",
       "</table>\n",
       "</div>"
      ],
      "text/plain": [
       "             orders_placed  retail_price  discounted_price  Brand_Revenue\n",
       "Brand                                                                    \n",
       "1OAK                     2          1698              1274         1015.4\n",
       "3A AUTOCARE             41        107059             74134        55647.9"
      ]
     },
     "execution_count": 34,
     "metadata": {},
     "output_type": "execute_result"
    }
   ],
   "source": [
    "ECom_Data_new = ECom_Data_n.rename(columns={'Order_Date': 'orders_placed'})\n",
    "ECom_Data_new.head(2)"
   ]
  },
  {
   "cell_type": "code",
   "execution_count": 35,
   "id": "cfe59287",
   "metadata": {},
   "outputs": [
    {
     "data": {
      "image/png": "[encoded data removed]",
      "text/plain": [
       "<Figure size 1000x1000 with 20 Axes>"
      ]
     },
     "metadata": {},
     "output_type": "display_data"
    }
   ],
   "source": [
    "sns.pairplot(data=ECom_Data_new[['orders_placed', 'retail_price', 'discounted_price', 'Brand_Revenue']]);\n"
   ]
  },
  {
   "cell_type": "markdown",
   "id": "ecec83f4",
   "metadata": {},
   "source": [
    "<font color='blue'>\n",
    "    <font size = 5>\n",
    "    The E-Commerce company operate in multiple regions. It is important to understand its performance in each region.\n",
    "    </font>"
   ]
  },
  {
   "cell_type": "markdown",
   "id": "dd09b8aa",
   "metadata": {},
   "source": [
    "## Q 9.Compare performance regionwise\n",
    "\n",
    "## a)\tDraw a lineplot for the monthly Revenue of E-Commerce Company for each region separately.  (4 marks) \n",
    "\n",
    "## b)\tIdentify the best and the worst performing months for each region. (2 marks)\n",
    "\n",
    "#### Note: Only those days with actual orders(Order_Date) placed are present in the dataset. Assuming there were no orders on other days. Also, show Month and Year on x-axis."
   ]
  },
  {
   "cell_type": "markdown",
   "id": "e6d64aea",
   "metadata": {},
   "source": [
    "### Ans 9 a)"
   ]
  },
  {
   "cell_type": "code",
   "execution_count": 37,
   "id": "d9a4f534",
   "metadata": {},
   "outputs": [
    {
     "data": {
      "text/html": [
       "<div>\n",
       "<style scoped>\n",
       "    .dataframe tbody tr th:only-of-type {\n",
       "        vertical-align: middle;\n",
       "    }\n",
       "\n",
       "    .dataframe tbody tr th {\n",
       "        vertical-align: top;\n",
       "    }\n",
       "\n",
       "    .dataframe thead th {\n",
       "        text-align: right;\n",
       "    }\n",
       "</style>\n",
       "<table border=\"1\" class=\"dataframe\">\n",
       "  <thead>\n",
       "    <tr style=\"text-align: right;\">\n",
       "      <th></th>\n",
       "      <th>Customer_uniq_id</th>\n",
       "      <th>Region</th>\n",
       "      <th>Order_Date</th>\n",
       "      <th>Expected_Delivery_Date</th>\n",
       "      <th>Delivered_Date</th>\n",
       "      <th>product_name</th>\n",
       "      <th>product_main_category</th>\n",
       "      <th>product_subcategory</th>\n",
       "      <th>product_category_filter</th>\n",
       "      <th>product_category_subfilter</th>\n",
       "      <th>product_unique ID</th>\n",
       "      <th>retail_price</th>\n",
       "      <th>discounted_price</th>\n",
       "      <th>product_rating</th>\n",
       "      <th>Brand</th>\n",
       "      <th>Revenue</th>\n",
       "      <th>BrandRevenue</th>\n",
       "      <th>Brand_Revenue</th>\n",
       "    </tr>\n",
       "  </thead>\n",
       "  <tbody>\n",
       "    <tr>\n",
       "      <th>0</th>\n",
       "      <td>e71017e224688489edfe856f2308806d</td>\n",
       "      <td>East</td>\n",
       "      <td>24-10-2021</td>\n",
       "      <td>25-10-2021</td>\n",
       "      <td>25-10-2021</td>\n",
       "      <td>Indcrown Net Embroidered Semi-stitched Lehenga...</td>\n",
       "      <td>Clothing</td>\n",
       "      <td>Women's Clothing</td>\n",
       "      <td>Ethnic Wear</td>\n",
       "      <td>Fabric</td>\n",
       "      <td>FABEJX2NHNKCYHKA</td>\n",
       "      <td>999</td>\n",
       "      <td>699</td>\n",
       "      <td>4.0</td>\n",
       "      <td>INDCROWN</td>\n",
       "      <td>174.75</td>\n",
       "      <td>524.25</td>\n",
       "      <td>524.25</td>\n",
       "    </tr>\n",
       "    <tr>\n",
       "      <th>1</th>\n",
       "      <td>6286847ee2da18f587503db49511c539</td>\n",
       "      <td>East</td>\n",
       "      <td>24-10-2021</td>\n",
       "      <td>25-10-2021</td>\n",
       "      <td>25-10-2021</td>\n",
       "      <td>Shopmania Music Band A5 Notebook Spiral Bound</td>\n",
       "      <td>Pens &amp; Stationery</td>\n",
       "      <td>Diaries &amp; Notebooks</td>\n",
       "      <td>Notebooks</td>\n",
       "      <td>Designer</td>\n",
       "      <td>DIAEJ6Z8BEDTGGYY</td>\n",
       "      <td>499</td>\n",
       "      <td>275</td>\n",
       "      <td>1.0</td>\n",
       "      <td>SHOPMANIA</td>\n",
       "      <td>27.50</td>\n",
       "      <td>247.50</td>\n",
       "      <td>247.50</td>\n",
       "    </tr>\n",
       "  </tbody>\n",
       "</table>\n",
       "</div>"
      ],
      "text/plain": [
       "                   Customer_uniq_id Region  Order_Date Expected_Delivery_Date  \\\n",
       "0  e71017e224688489edfe856f2308806d  East   24-10-2021             25-10-2021   \n",
       "1  6286847ee2da18f587503db49511c539  East   24-10-2021             25-10-2021   \n",
       "\n",
       "  Delivered_Date                                       product_name  \\\n",
       "0     25-10-2021  Indcrown Net Embroidered Semi-stitched Lehenga...   \n",
       "1     25-10-2021      Shopmania Music Band A5 Notebook Spiral Bound   \n",
       "\n",
       "  product_main_category    product_subcategory product_category_filter  \\\n",
       "0             Clothing       Women's Clothing             Ethnic Wear    \n",
       "1    Pens & Stationery    Diaries & Notebooks               Notebooks    \n",
       "\n",
       "  product_category_subfilter product_unique ID  retail_price  \\\n",
       "0                    Fabric   FABEJX2NHNKCYHKA           999   \n",
       "1                  Designer   DIAEJ6Z8BEDTGGYY           499   \n",
       "\n",
       "   discounted_price  product_rating      Brand  Revenue  BrandRevenue  \\\n",
       "0               699             4.0   INDCROWN   174.75        524.25   \n",
       "1               275             1.0  SHOPMANIA    27.50        247.50   \n",
       "\n",
       "   Brand_Revenue  \n",
       "0         524.25  \n",
       "1         247.50  "
      ]
     },
     "execution_count": 37,
     "metadata": {},
     "output_type": "execute_result"
    }
   ],
   "source": [
    "ECom_Data.head(2)"
   ]
  },
  {
   "cell_type": "code",
   "execution_count": 38,
   "id": "3e7071fb",
   "metadata": {},
   "outputs": [
    {
     "data": {
      "text/html": [
       "<div>\n",
       "<style scoped>\n",
       "    .dataframe tbody tr th:only-of-type {\n",
       "        vertical-align: middle;\n",
       "    }\n",
       "\n",
       "    .dataframe tbody tr th {\n",
       "        vertical-align: top;\n",
       "    }\n",
       "\n",
       "    .dataframe thead th {\n",
       "        text-align: right;\n",
       "    }\n",
       "</style>\n",
       "<table border=\"1\" class=\"dataframe\">\n",
       "  <thead>\n",
       "    <tr style=\"text-align: right;\">\n",
       "      <th></th>\n",
       "      <th>Customer_uniq_id</th>\n",
       "      <th>Region</th>\n",
       "      <th>Order_Date</th>\n",
       "      <th>Expected_Delivery_Date</th>\n",
       "      <th>Delivered_Date</th>\n",
       "      <th>product_name</th>\n",
       "      <th>product_main_category</th>\n",
       "      <th>product_subcategory</th>\n",
       "      <th>product_category_filter</th>\n",
       "      <th>product_category_subfilter</th>\n",
       "      <th>product_unique ID</th>\n",
       "      <th>retail_price</th>\n",
       "      <th>discounted_price</th>\n",
       "      <th>product_rating</th>\n",
       "      <th>Brand</th>\n",
       "      <th>Revenue</th>\n",
       "      <th>BrandRevenue</th>\n",
       "      <th>Brand_Revenue</th>\n",
       "    </tr>\n",
       "  </thead>\n",
       "  <tbody>\n",
       "    <tr>\n",
       "      <th>0</th>\n",
       "      <td>e71017e224688489edfe856f2308806d</td>\n",
       "      <td>East</td>\n",
       "      <td>2021-10-24</td>\n",
       "      <td>25-10-2021</td>\n",
       "      <td>25-10-2021</td>\n",
       "      <td>Indcrown Net Embroidered Semi-stitched Lehenga...</td>\n",
       "      <td>Clothing</td>\n",
       "      <td>Women's Clothing</td>\n",
       "      <td>Ethnic Wear</td>\n",
       "      <td>Fabric</td>\n",
       "      <td>FABEJX2NHNKCYHKA</td>\n",
       "      <td>999</td>\n",
       "      <td>699</td>\n",
       "      <td>4.0</td>\n",
       "      <td>INDCROWN</td>\n",
       "      <td>174.75</td>\n",
       "      <td>524.25</td>\n",
       "      <td>524.25</td>\n",
       "    </tr>\n",
       "    <tr>\n",
       "      <th>1</th>\n",
       "      <td>6286847ee2da18f587503db49511c539</td>\n",
       "      <td>East</td>\n",
       "      <td>2021-10-24</td>\n",
       "      <td>25-10-2021</td>\n",
       "      <td>25-10-2021</td>\n",
       "      <td>Shopmania Music Band A5 Notebook Spiral Bound</td>\n",
       "      <td>Pens &amp; Stationery</td>\n",
       "      <td>Diaries &amp; Notebooks</td>\n",
       "      <td>Notebooks</td>\n",
       "      <td>Designer</td>\n",
       "      <td>DIAEJ6Z8BEDTGGYY</td>\n",
       "      <td>499</td>\n",
       "      <td>275</td>\n",
       "      <td>1.0</td>\n",
       "      <td>SHOPMANIA</td>\n",
       "      <td>27.50</td>\n",
       "      <td>247.50</td>\n",
       "      <td>247.50</td>\n",
       "    </tr>\n",
       "  </tbody>\n",
       "</table>\n",
       "</div>"
      ],
      "text/plain": [
       "                   Customer_uniq_id Region Order_Date Expected_Delivery_Date  \\\n",
       "0  e71017e224688489edfe856f2308806d  East  2021-10-24             25-10-2021   \n",
       "1  6286847ee2da18f587503db49511c539  East  2021-10-24             25-10-2021   \n",
       "\n",
       "  Delivered_Date                                       product_name  \\\n",
       "0     25-10-2021  Indcrown Net Embroidered Semi-stitched Lehenga...   \n",
       "1     25-10-2021      Shopmania Music Band A5 Notebook Spiral Bound   \n",
       "\n",
       "  product_main_category    product_subcategory product_category_filter  \\\n",
       "0             Clothing       Women's Clothing             Ethnic Wear    \n",
       "1    Pens & Stationery    Diaries & Notebooks               Notebooks    \n",
       "\n",
       "  product_category_subfilter product_unique ID  retail_price  \\\n",
       "0                    Fabric   FABEJX2NHNKCYHKA           999   \n",
       "1                  Designer   DIAEJ6Z8BEDTGGYY           499   \n",
       "\n",
       "   discounted_price  product_rating      Brand  Revenue  BrandRevenue  \\\n",
       "0               699             4.0   INDCROWN   174.75        524.25   \n",
       "1               275             1.0  SHOPMANIA    27.50        247.50   \n",
       "\n",
       "   Brand_Revenue  \n",
       "0         524.25  \n",
       "1         247.50  "
      ]
     },
     "execution_count": 38,
     "metadata": {},
     "output_type": "execute_result"
    }
   ],
   "source": [
    "from warnings import filterwarnings\n",
    "filterwarnings(\"ignore\")\n",
    "import datetime\n",
    "ECom_Data['Order_Date']=pd.to_datetime(ECom_Data['Order_Date'], dayfirst=True)\n",
    "ECom_Data.head(2)"
   ]
  },
  {
   "cell_type": "code",
   "execution_count": 39,
   "id": "c0123a17",
   "metadata": {},
   "outputs": [
    {
     "name": "stdout",
     "output_type": "stream",
     "text": [
      "<class 'pandas.core.frame.DataFrame'>\n",
      "RangeIndex: 8906 entries, 0 to 8905\n",
      "Data columns (total 18 columns):\n",
      " #   Column                      Non-Null Count  Dtype         \n",
      "---  ------                      --------------  -----         \n",
      " 0   Customer_uniq_id            8906 non-null   object        \n",
      " 1   Region                      8906 non-null   object        \n",
      " 2   Order_Date                  8906 non-null   datetime64[ns]\n",
      " 3   Expected_Delivery_Date      8906 non-null   object        \n",
      " 4   Delivered_Date              8906 non-null   object        \n",
      " 5   product_name                8906 non-null   object        \n",
      " 6   product_main_category       8906 non-null   object        \n",
      " 7   product_subcategory         8906 non-null   object        \n",
      " 8   product_category_filter     8906 non-null   object        \n",
      " 9   product_category_subfilter  8906 non-null   object        \n",
      " 10  product_unique ID           8906 non-null   object        \n",
      " 11  retail_price                8906 non-null   int64         \n",
      " 12  discounted_price            8906 non-null   int64         \n",
      " 13  product_rating              8906 non-null   float64       \n",
      " 14  Brand                       8906 non-null   object        \n",
      " 15  Revenue                     8906 non-null   float64       \n",
      " 16  BrandRevenue                8906 non-null   float64       \n",
      " 17  Brand_Revenue               8906 non-null   float64       \n",
      "dtypes: datetime64[ns](1), float64(4), int64(2), object(11)\n",
      "memory usage: 1.2+ MB\n"
     ]
    }
   ],
   "source": [
    "ECom_Data.info()"
   ]
  },
  {
   "cell_type": "code",
   "execution_count": 40,
   "id": "c0ffad31",
   "metadata": {},
   "outputs": [
    {
     "data": {
      "text/html": [
       "<div>\n",
       "<style scoped>\n",
       "    .dataframe tbody tr th:only-of-type {\n",
       "        vertical-align: middle;\n",
       "    }\n",
       "\n",
       "    .dataframe tbody tr th {\n",
       "        vertical-align: top;\n",
       "    }\n",
       "\n",
       "    .dataframe thead th {\n",
       "        text-align: right;\n",
       "    }\n",
       "</style>\n",
       "<table border=\"1\" class=\"dataframe\">\n",
       "  <thead>\n",
       "    <tr style=\"text-align: right;\">\n",
       "      <th></th>\n",
       "      <th>Customer_uniq_id</th>\n",
       "      <th>Region</th>\n",
       "      <th>Order_Date</th>\n",
       "      <th>Expected_Delivery_Date</th>\n",
       "      <th>Delivered_Date</th>\n",
       "      <th>product_name</th>\n",
       "      <th>product_main_category</th>\n",
       "      <th>product_subcategory</th>\n",
       "      <th>product_category_filter</th>\n",
       "      <th>product_category_subfilter</th>\n",
       "      <th>product_unique ID</th>\n",
       "      <th>retail_price</th>\n",
       "      <th>discounted_price</th>\n",
       "      <th>product_rating</th>\n",
       "      <th>Brand</th>\n",
       "      <th>Revenue</th>\n",
       "      <th>BrandRevenue</th>\n",
       "      <th>Brand_Revenue</th>\n",
       "      <th>year</th>\n",
       "      <th>month</th>\n",
       "    </tr>\n",
       "  </thead>\n",
       "  <tbody>\n",
       "    <tr>\n",
       "      <th>0</th>\n",
       "      <td>e71017e224688489edfe856f2308806d</td>\n",
       "      <td>East</td>\n",
       "      <td>2021-10-24</td>\n",
       "      <td>25-10-2021</td>\n",
       "      <td>25-10-2021</td>\n",
       "      <td>Indcrown Net Embroidered Semi-stitched Lehenga...</td>\n",
       "      <td>Clothing</td>\n",
       "      <td>Women's Clothing</td>\n",
       "      <td>Ethnic Wear</td>\n",
       "      <td>Fabric</td>\n",
       "      <td>FABEJX2NHNKCYHKA</td>\n",
       "      <td>999</td>\n",
       "      <td>699</td>\n",
       "      <td>4.0</td>\n",
       "      <td>INDCROWN</td>\n",
       "      <td>174.75</td>\n",
       "      <td>524.25</td>\n",
       "      <td>524.25</td>\n",
       "      <td>2021</td>\n",
       "      <td>10</td>\n",
       "    </tr>\n",
       "    <tr>\n",
       "      <th>1</th>\n",
       "      <td>6286847ee2da18f587503db49511c539</td>\n",
       "      <td>East</td>\n",
       "      <td>2021-10-24</td>\n",
       "      <td>25-10-2021</td>\n",
       "      <td>25-10-2021</td>\n",
       "      <td>Shopmania Music Band A5 Notebook Spiral Bound</td>\n",
       "      <td>Pens &amp; Stationery</td>\n",
       "      <td>Diaries &amp; Notebooks</td>\n",
       "      <td>Notebooks</td>\n",
       "      <td>Designer</td>\n",
       "      <td>DIAEJ6Z8BEDTGGYY</td>\n",
       "      <td>499</td>\n",
       "      <td>275</td>\n",
       "      <td>1.0</td>\n",
       "      <td>SHOPMANIA</td>\n",
       "      <td>27.50</td>\n",
       "      <td>247.50</td>\n",
       "      <td>247.50</td>\n",
       "      <td>2021</td>\n",
       "      <td>10</td>\n",
       "    </tr>\n",
       "  </tbody>\n",
       "</table>\n",
       "</div>"
      ],
      "text/plain": [
       "                   Customer_uniq_id Region Order_Date Expected_Delivery_Date  \\\n",
       "0  e71017e224688489edfe856f2308806d  East  2021-10-24             25-10-2021   \n",
       "1  6286847ee2da18f587503db49511c539  East  2021-10-24             25-10-2021   \n",
       "\n",
       "  Delivered_Date                                       product_name  \\\n",
       "0     25-10-2021  Indcrown Net Embroidered Semi-stitched Lehenga...   \n",
       "1     25-10-2021      Shopmania Music Band A5 Notebook Spiral Bound   \n",
       "\n",
       "  product_main_category    product_subcategory product_category_filter  \\\n",
       "0             Clothing       Women's Clothing             Ethnic Wear    \n",
       "1    Pens & Stationery    Diaries & Notebooks               Notebooks    \n",
       "\n",
       "  product_category_subfilter product_unique ID  retail_price  \\\n",
       "0                    Fabric   FABEJX2NHNKCYHKA           999   \n",
       "1                  Designer   DIAEJ6Z8BEDTGGYY           499   \n",
       "\n",
       "   discounted_price  product_rating      Brand  Revenue  BrandRevenue  \\\n",
       "0               699             4.0   INDCROWN   174.75        524.25   \n",
       "1               275             1.0  SHOPMANIA    27.50        247.50   \n",
       "\n",
       "   Brand_Revenue  year  month  \n",
       "0         524.25  2021     10  \n",
       "1         247.50  2021     10  "
      ]
     },
     "execution_count": 40,
     "metadata": {},
     "output_type": "execute_result"
    }
   ],
   "source": [
    "ECom_Data['year'] = ECom_Data['Order_Date'].dt.year\n",
    "ECom_Data['month'] = ECom_Data['Order_Date'].dt.month\n",
    "ECom_Data.head(2)"
   ]
  },
  {
   "cell_type": "code",
   "execution_count": 41,
   "id": "5dc7c54e",
   "metadata": {},
   "outputs": [
    {
     "data": {
      "image/png": "[encoded data removed]",
      "text/plain": [
       "<Figure size 1500x700 with 1 Axes>"
      ]
     },
     "metadata": {},
     "output_type": "display_data"
    }
   ],
   "source": [
    "plt.figure(figsize=(15,7))\n",
    "plt.title('Lineplot: Monthly revenue for each region')\n",
    "plt.xlim(0,12)\n",
    "plt.xlabel('Month (2020-21)')\n",
    "sns.lineplot(data=ECom_Data, x='month', y='Revenue',ci=False, hue='Region');"
   ]
  },
  {
   "cell_type": "markdown",
   "id": "dac59dc4",
   "metadata": {},
   "source": [
    "### Ans 9 b)"
   ]
  },
  {
   "cell_type": "markdown",
   "id": "3a2ddf7d",
   "metadata": {},
   "source": [
    "1)East region:\n",
    "The best performing month in east region is AUGUST and the worst performing month is OCTOBER.\n",
    "\n",
    "2)West region:\n",
    "The best performing month in west region is MARCH and the worst performing month is OCTOBER.\n",
    "\n",
    "3)North region:\n",
    "The best performing month in north region is AUGUST and the worst performing month is JULY.\n",
    "\n",
    "4)South region:\n",
    "The best performing month in south region is MARCH and the worst performing month is MAY.\n"
   ]
  },
  {
   "cell_type": "markdown",
   "id": "dcb8d39f",
   "metadata": {},
   "source": [
    "<font color='blue'>\n",
    "    <font size = 5>\n",
    "    Congratulations! You have learnt how to approach a complex data and extract information out of it. \n",
    "    </font>"
   ]
  }
 ],
 "metadata": {
  "kernelspec": {
   "display_name": "Python 3 (ipykernel)",
   "language": "python",
   "name": "python3"
  },
  "language_info": {
   "codemirror_mode": {
    "name": "ipython",
    "version": 3
   },
   "file_extension": ".py",
   "mimetype": "text/x-python",
   "name": "python",
   "nbconvert_exporter": "python",
   "pygments_lexer": "ipython3",
   "version": "3.10.9"
  }
 },
 "nbformat": 4,
 "nbformat_minor": 5
}
